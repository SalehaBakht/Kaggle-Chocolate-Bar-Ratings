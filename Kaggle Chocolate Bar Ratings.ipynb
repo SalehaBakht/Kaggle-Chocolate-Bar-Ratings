{
 "cells": [
  {
   "cell_type": "markdown",
   "metadata": {},
   "source": [
    "# Table of contents\n",
    "1. [Cleaning](#cleaning)\n",
    "2. [Exploring to Answer Unasked Questions](#myanswers)\n",
    "3. [Answering the Asked Questions](#answers)"
   ]
  },
  {
   "cell_type": "markdown",
   "metadata": {},
   "source": [
    "## Cleaning the Dataframe <a name=\"cleaning\"></a>\n",
    "Before we answer the Kaggle questions, let's clean the dataframe!"
   ]
  },
  {
   "cell_type": "code",
   "execution_count": 1,
   "metadata": {},
   "outputs": [
    {
     "data": {
      "text/html": [
       "<div>\n",
       "<style scoped>\n",
       "    .dataframe tbody tr th:only-of-type {\n",
       "        vertical-align: middle;\n",
       "    }\n",
       "\n",
       "    .dataframe tbody tr th {\n",
       "        vertical-align: top;\n",
       "    }\n",
       "\n",
       "    .dataframe thead th {\n",
       "        text-align: right;\n",
       "    }\n",
       "</style>\n",
       "<table border=\"1\" class=\"dataframe\">\n",
       "  <thead>\n",
       "    <tr style=\"text-align: right;\">\n",
       "      <th></th>\n",
       "      <th>0</th>\n",
       "      <th>1</th>\n",
       "      <th>2</th>\n",
       "      <th>3</th>\n",
       "      <th>4</th>\n",
       "    </tr>\n",
       "  </thead>\n",
       "  <tbody>\n",
       "    <tr>\n",
       "      <th>Company \\n(Maker-if known)</th>\n",
       "      <td>A. Morin</td>\n",
       "      <td>A. Morin</td>\n",
       "      <td>A. Morin</td>\n",
       "      <td>A. Morin</td>\n",
       "      <td>A. Morin</td>\n",
       "    </tr>\n",
       "    <tr>\n",
       "      <th>Specific Bean Origin\\nor Bar Name</th>\n",
       "      <td>Agua Grande</td>\n",
       "      <td>Kpime</td>\n",
       "      <td>Atsane</td>\n",
       "      <td>Akata</td>\n",
       "      <td>Quilla</td>\n",
       "    </tr>\n",
       "    <tr>\n",
       "      <th>REF</th>\n",
       "      <td>1876</td>\n",
       "      <td>1676</td>\n",
       "      <td>1676</td>\n",
       "      <td>1680</td>\n",
       "      <td>1704</td>\n",
       "    </tr>\n",
       "    <tr>\n",
       "      <th>Review\\nDate</th>\n",
       "      <td>2016</td>\n",
       "      <td>2015</td>\n",
       "      <td>2015</td>\n",
       "      <td>2015</td>\n",
       "      <td>2015</td>\n",
       "    </tr>\n",
       "    <tr>\n",
       "      <th>Cocoa\\nPercent</th>\n",
       "      <td>63%</td>\n",
       "      <td>70%</td>\n",
       "      <td>70%</td>\n",
       "      <td>70%</td>\n",
       "      <td>70%</td>\n",
       "    </tr>\n",
       "    <tr>\n",
       "      <th>Company\\nLocation</th>\n",
       "      <td>France</td>\n",
       "      <td>France</td>\n",
       "      <td>France</td>\n",
       "      <td>France</td>\n",
       "      <td>France</td>\n",
       "    </tr>\n",
       "    <tr>\n",
       "      <th>Rating</th>\n",
       "      <td>3.75</td>\n",
       "      <td>2.75</td>\n",
       "      <td>3</td>\n",
       "      <td>3.5</td>\n",
       "      <td>3.5</td>\n",
       "    </tr>\n",
       "    <tr>\n",
       "      <th>Bean\\nType</th>\n",
       "      <td></td>\n",
       "      <td></td>\n",
       "      <td></td>\n",
       "      <td></td>\n",
       "      <td></td>\n",
       "    </tr>\n",
       "    <tr>\n",
       "      <th>Broad Bean\\nOrigin</th>\n",
       "      <td>Sao Tome</td>\n",
       "      <td>Togo</td>\n",
       "      <td>Togo</td>\n",
       "      <td>Togo</td>\n",
       "      <td>Peru</td>\n",
       "    </tr>\n",
       "  </tbody>\n",
       "</table>\n",
       "</div>"
      ],
      "text/plain": [
       "                                             0         1         2         3  \\\n",
       "Company \\n(Maker-if known)            A. Morin  A. Morin  A. Morin  A. Morin   \n",
       "Specific Bean Origin\\nor Bar Name  Agua Grande     Kpime    Atsane     Akata   \n",
       "REF                                       1876      1676      1676      1680   \n",
       "Review\\nDate                              2016      2015      2015      2015   \n",
       "Cocoa\\nPercent                             63%       70%       70%       70%   \n",
       "Company\\nLocation                       France    France    France    France   \n",
       "Rating                                    3.75      2.75         3       3.5   \n",
       "Bean\\nType                                                                     \n",
       "Broad Bean\\nOrigin                    Sao Tome      Togo      Togo      Togo   \n",
       "\n",
       "                                          4  \n",
       "Company \\n(Maker-if known)         A. Morin  \n",
       "Specific Bean Origin\\nor Bar Name    Quilla  \n",
       "REF                                    1704  \n",
       "Review\\nDate                           2015  \n",
       "Cocoa\\nPercent                          70%  \n",
       "Company\\nLocation                    France  \n",
       "Rating                                  3.5  \n",
       "Bean\\nType                                   \n",
       "Broad Bean\\nOrigin                     Peru  "
      ]
     },
     "execution_count": 1,
     "metadata": {},
     "output_type": "execute_result"
    }
   ],
   "source": [
    "import pandas as pd\n",
    "import csv\n",
    "import matplotlib.pyplot as plt\n",
    "import seaborn as sns\n",
    "df1 = pd.read_csv('flavors_of_cacao.csv')\n",
    "#Explore head\n",
    "df1.head().T"
   ]
  },
  {
   "cell_type": "code",
   "execution_count": 57,
   "metadata": {},
   "outputs": [
    {
     "data": {
      "text/html": [
       "<div>\n",
       "<style scoped>\n",
       "    .dataframe tbody tr th:only-of-type {\n",
       "        vertical-align: middle;\n",
       "    }\n",
       "\n",
       "    .dataframe tbody tr th {\n",
       "        vertical-align: top;\n",
       "    }\n",
       "\n",
       "    .dataframe thead th {\n",
       "        text-align: right;\n",
       "    }\n",
       "</style>\n",
       "<table border=\"1\" class=\"dataframe\">\n",
       "  <thead>\n",
       "    <tr style=\"text-align: right;\">\n",
       "      <th></th>\n",
       "      <th>Company</th>\n",
       "      <th>Specific Bean Origin or Bar Name</th>\n",
       "      <th>REF</th>\n",
       "      <th>Review Date</th>\n",
       "      <th>Cocoa Percent</th>\n",
       "      <th>Company Location</th>\n",
       "      <th>Rating</th>\n",
       "      <th>Bean Type</th>\n",
       "      <th>Broad Bean Origin</th>\n",
       "    </tr>\n",
       "  </thead>\n",
       "  <tbody>\n",
       "    <tr>\n",
       "      <th>0</th>\n",
       "      <td>A. Morin</td>\n",
       "      <td>Agua Grande</td>\n",
       "      <td>1876</td>\n",
       "      <td>2016</td>\n",
       "      <td>0.63</td>\n",
       "      <td>France</td>\n",
       "      <td>3.75</td>\n",
       "      <td></td>\n",
       "      <td>Sao Tome</td>\n",
       "    </tr>\n",
       "    <tr>\n",
       "      <th>1</th>\n",
       "      <td>A. Morin</td>\n",
       "      <td>Kpime</td>\n",
       "      <td>1676</td>\n",
       "      <td>2015</td>\n",
       "      <td>0.70</td>\n",
       "      <td>France</td>\n",
       "      <td>2.75</td>\n",
       "      <td></td>\n",
       "      <td>Togo</td>\n",
       "    </tr>\n",
       "    <tr>\n",
       "      <th>2</th>\n",
       "      <td>A. Morin</td>\n",
       "      <td>Atsane</td>\n",
       "      <td>1676</td>\n",
       "      <td>2015</td>\n",
       "      <td>0.70</td>\n",
       "      <td>France</td>\n",
       "      <td>3.00</td>\n",
       "      <td></td>\n",
       "      <td>Togo</td>\n",
       "    </tr>\n",
       "    <tr>\n",
       "      <th>3</th>\n",
       "      <td>A. Morin</td>\n",
       "      <td>Akata</td>\n",
       "      <td>1680</td>\n",
       "      <td>2015</td>\n",
       "      <td>0.70</td>\n",
       "      <td>France</td>\n",
       "      <td>3.50</td>\n",
       "      <td></td>\n",
       "      <td>Togo</td>\n",
       "    </tr>\n",
       "    <tr>\n",
       "      <th>4</th>\n",
       "      <td>A. Morin</td>\n",
       "      <td>Quilla</td>\n",
       "      <td>1704</td>\n",
       "      <td>2015</td>\n",
       "      <td>0.70</td>\n",
       "      <td>France</td>\n",
       "      <td>3.50</td>\n",
       "      <td></td>\n",
       "      <td>Peru</td>\n",
       "    </tr>\n",
       "  </tbody>\n",
       "</table>\n",
       "</div>"
      ],
      "text/plain": [
       "    Company Specific Bean Origin or Bar Name   REF  Review Date  \\\n",
       "0  A. Morin                      Agua Grande  1876         2016   \n",
       "1  A. Morin                            Kpime  1676         2015   \n",
       "2  A. Morin                           Atsane  1676         2015   \n",
       "3  A. Morin                            Akata  1680         2015   \n",
       "4  A. Morin                           Quilla  1704         2015   \n",
       "\n",
       "   Cocoa Percent Company Location  Rating Bean Type Broad Bean Origin  \n",
       "0           0.63           France    3.75                    Sao Tome  \n",
       "1           0.70           France    2.75                        Togo  \n",
       "2           0.70           France    3.00                        Togo  \n",
       "3           0.70           France    3.50                        Togo  \n",
       "4           0.70           France    3.50                        Peru  "
      ]
     },
     "execution_count": 57,
     "metadata": {},
     "output_type": "execute_result"
    }
   ],
   "source": [
    "#Explore superficially the dataframe.\n",
    "df1.head()"
   ]
  },
  {
   "cell_type": "markdown",
   "metadata": {},
   "source": [
    "We can see some indexes have breaks in their names. We will rename them for ease."
   ]
  },
  {
   "cell_type": "code",
   "execution_count": 58,
   "metadata": {},
   "outputs": [
    {
     "data": {
      "text/html": [
       "<div>\n",
       "<style scoped>\n",
       "    .dataframe tbody tr th:only-of-type {\n",
       "        vertical-align: middle;\n",
       "    }\n",
       "\n",
       "    .dataframe tbody tr th {\n",
       "        vertical-align: top;\n",
       "    }\n",
       "\n",
       "    .dataframe thead th {\n",
       "        text-align: right;\n",
       "    }\n",
       "</style>\n",
       "<table border=\"1\" class=\"dataframe\">\n",
       "  <thead>\n",
       "    <tr style=\"text-align: right;\">\n",
       "      <th></th>\n",
       "      <th>0</th>\n",
       "      <th>1</th>\n",
       "      <th>2</th>\n",
       "      <th>3</th>\n",
       "      <th>4</th>\n",
       "    </tr>\n",
       "  </thead>\n",
       "  <tbody>\n",
       "    <tr>\n",
       "      <th>Company</th>\n",
       "      <td>A. Morin</td>\n",
       "      <td>A. Morin</td>\n",
       "      <td>A. Morin</td>\n",
       "      <td>A. Morin</td>\n",
       "      <td>A. Morin</td>\n",
       "    </tr>\n",
       "    <tr>\n",
       "      <th>Specific Bean Origin or Bar Name</th>\n",
       "      <td>Agua Grande</td>\n",
       "      <td>Kpime</td>\n",
       "      <td>Atsane</td>\n",
       "      <td>Akata</td>\n",
       "      <td>Quilla</td>\n",
       "    </tr>\n",
       "    <tr>\n",
       "      <th>REF</th>\n",
       "      <td>1876</td>\n",
       "      <td>1676</td>\n",
       "      <td>1676</td>\n",
       "      <td>1680</td>\n",
       "      <td>1704</td>\n",
       "    </tr>\n",
       "    <tr>\n",
       "      <th>Review Date</th>\n",
       "      <td>2016</td>\n",
       "      <td>2015</td>\n",
       "      <td>2015</td>\n",
       "      <td>2015</td>\n",
       "      <td>2015</td>\n",
       "    </tr>\n",
       "    <tr>\n",
       "      <th>Cocoa Percent</th>\n",
       "      <td>0.63</td>\n",
       "      <td>0.7</td>\n",
       "      <td>0.7</td>\n",
       "      <td>0.7</td>\n",
       "      <td>0.7</td>\n",
       "    </tr>\n",
       "    <tr>\n",
       "      <th>Company Location</th>\n",
       "      <td>France</td>\n",
       "      <td>France</td>\n",
       "      <td>France</td>\n",
       "      <td>France</td>\n",
       "      <td>France</td>\n",
       "    </tr>\n",
       "    <tr>\n",
       "      <th>Rating</th>\n",
       "      <td>3.75</td>\n",
       "      <td>2.75</td>\n",
       "      <td>3</td>\n",
       "      <td>3.5</td>\n",
       "      <td>3.5</td>\n",
       "    </tr>\n",
       "    <tr>\n",
       "      <th>Bean Type</th>\n",
       "      <td></td>\n",
       "      <td></td>\n",
       "      <td></td>\n",
       "      <td></td>\n",
       "      <td></td>\n",
       "    </tr>\n",
       "    <tr>\n",
       "      <th>Broad Bean Origin</th>\n",
       "      <td>Sao Tome</td>\n",
       "      <td>Togo</td>\n",
       "      <td>Togo</td>\n",
       "      <td>Togo</td>\n",
       "      <td>Peru</td>\n",
       "    </tr>\n",
       "  </tbody>\n",
       "</table>\n",
       "</div>"
      ],
      "text/plain": [
       "                                            0         1         2         3  \\\n",
       "Company                              A. Morin  A. Morin  A. Morin  A. Morin   \n",
       "Specific Bean Origin or Bar Name  Agua Grande     Kpime    Atsane     Akata   \n",
       "REF                                      1876      1676      1676      1680   \n",
       "Review Date                              2016      2015      2015      2015   \n",
       "Cocoa Percent                            0.63       0.7       0.7       0.7   \n",
       "Company Location                       France    France    France    France   \n",
       "Rating                                   3.75      2.75         3       3.5   \n",
       "Bean Type                                                                     \n",
       "Broad Bean Origin                    Sao Tome      Togo      Togo      Togo   \n",
       "\n",
       "                                         4  \n",
       "Company                           A. Morin  \n",
       "Specific Bean Origin or Bar Name    Quilla  \n",
       "REF                                   1704  \n",
       "Review Date                           2015  \n",
       "Cocoa Percent                          0.7  \n",
       "Company Location                    France  \n",
       "Rating                                 3.5  \n",
       "Bean Type                                   \n",
       "Broad Bean Origin                     Peru  "
      ]
     },
     "execution_count": 58,
     "metadata": {},
     "output_type": "execute_result"
    }
   ],
   "source": [
    "original_colnames = df1.columns\n",
    "new_colnames = ['Company', 'Specific Bean Origin or Bar Name', 'REF', 'Review Date', 'Cocoa Percent', 'Company Location', 'Rating', 'Bean Type', 'Broad Bean Origin']\n",
    "df1 = df1.rename(columns=dict(zip(original_colnames, new_colnames)))\n",
    "df1.head().T"
   ]
  },
  {
   "cell_type": "markdown",
   "metadata": {},
   "source": [
    "Check all columns for null values."
   ]
  },
  {
   "cell_type": "code",
   "execution_count": 59,
   "metadata": {},
   "outputs": [
    {
     "data": {
      "text/plain": [
       "False    1795\n",
       "Name: Company, dtype: int64"
      ]
     },
     "execution_count": 59,
     "metadata": {},
     "output_type": "execute_result"
    }
   ],
   "source": [
    "df1['Company'].isnull().value_counts()"
   ]
  },
  {
   "cell_type": "code",
   "execution_count": 5,
   "metadata": {},
   "outputs": [
    {
     "data": {
      "text/plain": [
       "False    1795\n",
       "Name: Specific Bean Origin or Bar Name, dtype: int64"
      ]
     },
     "execution_count": 5,
     "metadata": {},
     "output_type": "execute_result"
    }
   ],
   "source": [
    "df1['Specific Bean Origin or Bar Name'].isnull().value_counts()"
   ]
  },
  {
   "cell_type": "code",
   "execution_count": 6,
   "metadata": {},
   "outputs": [
    {
     "data": {
      "text/plain": [
       "False    1795\n",
       "Name: REF, dtype: int64"
      ]
     },
     "execution_count": 6,
     "metadata": {},
     "output_type": "execute_result"
    }
   ],
   "source": [
    "df1['REF'].isnull().value_counts()"
   ]
  },
  {
   "cell_type": "code",
   "execution_count": 7,
   "metadata": {},
   "outputs": [
    {
     "data": {
      "text/plain": [
       "False    1795\n",
       "Name: Review Date, dtype: int64"
      ]
     },
     "execution_count": 7,
     "metadata": {},
     "output_type": "execute_result"
    }
   ],
   "source": [
    "df1['Review Date'].isnull().value_counts()"
   ]
  },
  {
   "cell_type": "code",
   "execution_count": 8,
   "metadata": {},
   "outputs": [
    {
     "data": {
      "text/plain": [
       "False    1795\n",
       "Name: Cocoa Percent, dtype: int64"
      ]
     },
     "execution_count": 8,
     "metadata": {},
     "output_type": "execute_result"
    }
   ],
   "source": [
    "df1['Cocoa Percent'].isnull().value_counts()"
   ]
  },
  {
   "cell_type": "code",
   "execution_count": 9,
   "metadata": {},
   "outputs": [
    {
     "data": {
      "text/plain": [
       "False    1795\n",
       "Name: Company Location, dtype: int64"
      ]
     },
     "execution_count": 9,
     "metadata": {},
     "output_type": "execute_result"
    }
   ],
   "source": [
    "df1['Company Location'].isnull().value_counts()"
   ]
  },
  {
   "cell_type": "code",
   "execution_count": 10,
   "metadata": {},
   "outputs": [
    {
     "data": {
      "text/plain": [
       "False    1795\n",
       "Name: Rating, dtype: int64"
      ]
     },
     "execution_count": 10,
     "metadata": {},
     "output_type": "execute_result"
    }
   ],
   "source": [
    "df1['Rating'].isnull(). value_counts()"
   ]
  },
  {
   "cell_type": "code",
   "execution_count": 45,
   "metadata": {},
   "outputs": [
    {
     "data": {
      "text/plain": [
       "False    1794\n",
       "True        1\n",
       "Name: Bean Type, dtype: int64"
      ]
     },
     "execution_count": 45,
     "metadata": {},
     "output_type": "execute_result"
    }
   ],
   "source": [
    "df1['Bean Type'].isnull().value_counts()"
   ]
  },
  {
   "cell_type": "markdown",
   "metadata": {},
   "source": [
    "Notice that the results for this say there is only one null value. Visual inspection shows that there are many empty cells in the column. "
   ]
  },
  {
   "cell_type": "code",
   "execution_count": 12,
   "metadata": {},
   "outputs": [
    {
     "data": {
      "text/plain": [
       "False    1794\n",
       "True        1\n",
       "Name: Broad Bean Origin, dtype: int64"
      ]
     },
     "execution_count": 12,
     "metadata": {},
     "output_type": "execute_result"
    }
   ],
   "source": [
    "df1['Broad Bean Origin'].isnull().value_counts()"
   ]
  },
  {
   "cell_type": "markdown",
   "metadata": {},
   "source": [
    "Notice that the results for this say there is only one null value. Visual inspection shows that there are many empty cells in the column. "
   ]
  },
  {
   "cell_type": "code",
   "execution_count": 46,
   "metadata": {},
   "outputs": [
    {
     "data": {
      "text/plain": [
       "False    1795\n",
       "Name: Broad Bean Origin, dtype: int64"
      ]
     },
     "execution_count": 46,
     "metadata": {},
     "output_type": "execute_result"
    }
   ],
   "source": [
    "#Replace the missing value with the value in the corresponding Specific Bean Origin or Bar Name value instead.\n",
    "df1['Broad Bean Origin'] = df1['Broad Bean Origin'].fillna(df1['Specific Bean Origin or Bar Name'])\n",
    "df1['Broad Bean Origin'].isnull().value_counts()"
   ]
  },
  {
   "cell_type": "markdown",
   "metadata": {},
   "source": [
    "value_counts() says there are no more null values in the column. Visual inspection of the Broad Bean Origin column in df1 still shows empty cells."
   ]
  },
  {
   "cell_type": "code",
   "execution_count": 47,
   "metadata": {},
   "outputs": [
    {
     "data": {
      "text/plain": [
       "                        887\n",
       "Trinitario              419\n",
       "Criollo                 153\n",
       "Forastero                87\n",
       "Forastero (Nacional)     52\n",
       "Blend                    41\n",
       "Criollo, Trinitario      39\n",
       "Forastero (Arriba)       37\n",
       "Criollo (Porcelana)      10\n",
       "Trinitario, Criollo       9\n",
       "Name: Bean Type, dtype: int64"
      ]
     },
     "execution_count": 47,
     "metadata": {},
     "output_type": "execute_result"
    }
   ],
   "source": [
    "#Look at most frequent Bean Type and Broad Bean Origin\n",
    "df1['Bean Type'].value_counts().head(10)"
   ]
  },
  {
   "cell_type": "markdown",
   "metadata": {},
   "source": [
    "Note that there are 887 values that are ' '."
   ]
  },
  {
   "cell_type": "code",
   "execution_count": 48,
   "metadata": {},
   "outputs": [
    {
     "data": {
      "text/plain": [
       "Venezuela             214\n",
       "Ecuador               193\n",
       "Peru                  165\n",
       "Madagascar            146\n",
       "Dominican Republic    141\n",
       "                       73\n",
       "Nicaragua              60\n",
       "Brazil                 58\n",
       "Bolivia                57\n",
       "Belize                 49\n",
       "Name: Broad Bean Origin, dtype: int64"
      ]
     },
     "execution_count": 48,
     "metadata": {},
     "output_type": "execute_result"
    }
   ],
   "source": [
    "df1['Broad Bean Origin'].value_counts().head(10)"
   ]
  },
  {
   "cell_type": "markdown",
   "metadata": {},
   "source": [
    "Note that there are 73 values that are ' '.\n",
    "\n",
    "Now that we know that most of the columns are complete, we will explore the existing content of those columns before trying to create content in the columns that are missing values, namely the Bean Type and Broad Bean Origin columns."
   ]
  },
  {
   "cell_type": "code",
   "execution_count": 49,
   "metadata": {},
   "outputs": [
    {
     "data": {
      "text/plain": [
       "array(['A. Morin', 'AMMA', 'Acalli', 'Adi', 'Aequare (Gianduja)',\n",
       "       'Ah Cacao', \"Akesson's (Pralus)\", 'Alain Ducasse', 'Alexandre',\n",
       "       'Altus aka Cao Artisan', 'Amano', 'Amatller (Simon Coll)',\n",
       "       'Amazona', 'Ambrosia', 'Amedei', 'Anahata', 'Animas', 'Ara',\n",
       "       'Arete', 'Artisan du Chocolat', 'Artisan du Chocolat (Casa Luker)',\n",
       "       'Askinosie', 'Bahen & Co.', 'Bakau', 'Bar Au Chocolat',\n",
       "       \"Baravelli's\", 'Batch', 'Beau Cacao', 'Beehive', 'Belcolade',\n",
       "       'Bellflower', 'Belyzium', 'Benoit Nihant', 'Bernachon',\n",
       "       'Beschle (Felchlin)', 'Bisou', 'Bittersweet Origins',\n",
       "       'Black Mountain', 'Black River (A. Morin)', 'Blanxart',\n",
       "       'Blue Bandana', 'Bonnat', 'Bouga Cacao (Tulicorp)', 'Bowler Man',\n",
       "       \"Brasstown aka It's Chocolate\", 'Brazen', 'Breeze Mill', 'Bright',\n",
       "       'Britarev', 'Bronx Grrl Chocolate', 'Burnt Fork Bend', 'C-Amaro',\n",
       "       'Cacao Arabuco', 'Cacao Atlanta', 'Cacao Barry', 'Cacao Hunters',\n",
       "       'Cacao Market', 'Cacao Prieto', 'Cacao Sampaka', 'Cacao Store',\n",
       "       'Cacao de Origen', 'Cacao de Origin',\n",
       "       'Cacaosuyo (Theobroma Inversiones)', 'Cacaoyere (Ecuatoriana)',\n",
       "       'Callebaut', 'Cao', 'Caoni (Tulicorp)', 'Captain Pembleton',\n",
       "       'Caribeans', 'Carlotta Chocolat', 'Castronovo', 'Cello', 'Cemoi',\n",
       "       'Chaleur B', 'Charm School', 'Chchukululu (Tulicorp)',\n",
       "       'Chequessett', 'Chloe Chocolat', 'Chocablog', 'Choco Del Sol',\n",
       "       'Choco Dong', 'ChocoReko', \"Chocola'te\", 'Chocolarder',\n",
       "       'Chocolate Alchemist-Philly', 'Chocolate Con Amor',\n",
       "       'Chocolate Conspiracy', 'Chocolate Makers', 'Chocolate Tree, The',\n",
       "       'Chocolats Privilege', 'Chocosol', 'Chocovic', 'Chocovivo',\n",
       "       'Choklat', 'Chokolat Elot (Girard)', 'Choocsol',\n",
       "       'Christopher Morel (Felchlin)', 'Chuao Chocolatier',\n",
       "       'Chuao Chocolatier (Pralus)', 'Claudio Corallo', 'Cloudforest',\n",
       "       'Coleman & Davis', 'Compania de Chocolate (Salgado)', 'Condor',\n",
       "       'Confluence', 'Coppeneur', \"Cote d' Or (Kraft)\", 'Cravve', 'Creo',\n",
       "       'DAR', 'Daintree', 'Dalloway', 'Damson', 'Dandelion', 'Danta',\n",
       "       'Dark Forest', 'Davis', 'De Mendes', 'De Villiers', 'DeVries',\n",
       "       'Dean and Deluca (Belcolade)',\n",
       "       'Debauve & Gallais (Michel Cluizel)', 'Desbarres', 'Dick Taylor',\n",
       "       'Doble & Bignall', 'Dole (Guittard)', 'Dolfin (Belcolade)',\n",
       "       'Domori', 'Dormouse', \"Duffy's\", 'Dulcinea', 'Durand', 'Durci',\n",
       "       'ENNA', 'East Van Roasters', 'Eau de Rose', 'Eclat (Felchlin)',\n",
       "       'Edelmond', 'El Ceibo', 'El Rey', 'Emerald Estate', \"Emily's\",\n",
       "       'Enric Rovira (Claudio Corallo)', 'Erithaj (A. Morin)', 'Escazu',\n",
       "       \"Ethel's Artisan (Mars)\", 'Ethereal', 'Fearless (AMMA)',\n",
       "       'Feitoria Cacao', 'Felchlin', 'Finca', 'Forever Cacao',\n",
       "       'Forteza (Cortes)', 'Fossa', 'Franceschi', 'Frederic Blondeel',\n",
       "       'French Broad', 'Fresco', 'Friis Holm', 'Friis Holm (Bonnat)',\n",
       "       'Fruition', 'Garden Island', 'Georgia Ramon', 'Glennmade',\n",
       "       'Goodnow Farms', 'Grand Place', \"Green & Black's (ICAM)\",\n",
       "       'Green Bean to Bar', 'Grenada Chocolate Co.', 'Guido Castagna',\n",
       "       'Guittard', 'Habitual', 'Hachez', 'Hacienda El Castillo', 'Haigh',\n",
       "       'Harper Macaw', 'Heilemann',\n",
       "       'Heirloom Cacao Preservation (Brasstown)',\n",
       "       'Heirloom Cacao Preservation (Fruition)',\n",
       "       'Heirloom Cacao Preservation (Guittard)',\n",
       "       'Heirloom Cacao Preservation (Manoa)',\n",
       "       'Heirloom Cacao Preservation (Millcreek)',\n",
       "       'Heirloom Cacao Preservation (Mindo)',\n",
       "       'Heirloom Cacao Preservation (Zokoko)', 'Hogarth',\n",
       "       'Hoja Verde (Tulicorp)', 'Holy Cacao', 'Honest', 'Hotel Chocolat',\n",
       "       'Hotel Chocolat (Coppeneur)', 'Hummingbird', 'Idilio (Felchlin)',\n",
       "       'Indah', 'Indaphoria', 'Indi', 'Isidro', 'Izard', 'Jacque Torres',\n",
       "       'Jordis', 'Just Good Chocolate', \"K'ul\", 'Kah Kow', 'Kakao',\n",
       "       'Kallari (Ecuatoriana)', 'Kaoka (Cemoi)', 'Kerchner',\n",
       "       \"Ki' Xocolatl\", 'Kiskadee', 'Kto', 'Kyya', \"L'Amourette\",\n",
       "       'L.A. Burdick (Felchlin)', 'La Chocolaterie Nanairo',\n",
       "       'La Maison du Chocolat (Valrhona)', 'La Oroquidea',\n",
       "       'La Pepa de Oro', 'Laia aka Chat-Noir', 'Lajedo do Ouro',\n",
       "       'Lake Champlain (Callebaut)', 'Letterpress', 'Levy', 'Lilla',\n",
       "       'Lillie Belle', 'Lindt & Sprungli', 'Loiza', 'Lonohana',\n",
       "       'Love Bar', 'Luker', 'Machu Picchu Trading Co.',\n",
       "       'Madecasse (Cinagra)', 'Madre', 'Maglio', 'Majani',\n",
       "       'Malagasy (Chocolaterie Robert)', 'Malagos',\n",
       "       'Malie Kai (Guittard)', 'Malmo', 'Mana', 'Manifesto Cacao',\n",
       "       'Manoa', 'Manufaktura Czekolady', 'Map Chocolate', 'Marana',\n",
       "       \"Marigold's Finest\", 'Marou', 'Mars', 'Marsatta', 'Martin Mayer',\n",
       "       'Mast Brothers', 'Matale', 'Maverick', 'Mayacama', 'Meadowlands',\n",
       "       'Menakao (aka Cinagra)', 'Mesocacao', 'Metiisto', 'Metropolitan',\n",
       "       'Michel Cluizel', 'Middlebury', 'Millcreek Cacao Roasters',\n",
       "       'Mindo', 'Minimal', 'Mission', 'Mita', 'Moho', 'Molucca',\n",
       "       'Momotombo', 'Monarque', 'Monsieur Truffe', 'Montecristi',\n",
       "       'Muchomas (Mesocacao)', 'Mutari', 'Nahua', 'Naive', 'Nanea',\n",
       "       'Nathan Miller', 'Na�ve', 'Neuhaus (Callebaut)', 'Nibble',\n",
       "       'Night Owl', 'Noble Bean aka Jerjobo', \"Noir d' Ebine\",\n",
       "       'Nova Monda', 'Nuance', 'Nugali', 'Oakland Chocolate Co.', 'Obolo',\n",
       "       'Ocelot', 'Ocho', 'Ohiyo', 'Oialla by Bojessen (Malmo)',\n",
       "       'Olive and Sinclair', 'Olivia', 'Omanhene', 'Omnom',\n",
       "       'Original Beans (Felchlin)', 'Original Hawaiin Chocolate Factory',\n",
       "       'Orquidea', 'Pacari', 'Palette de Bine', 'Pangea', 'Park 75',\n",
       "       'Parliament', 'Pascha', 'Patric', 'Paul Young', 'Peppalo',\n",
       "       'Pierre Marcolini', 'Pinellas', 'Pitch Dark',\n",
       "       'Pomm (aka Dead Dog)', 'Potomac', 'Pralus', 'Pump Street Bakery',\n",
       "       'Pura Delizia', 'Q Chocolate', 'Quetzalli (Wolter)', 'Raaka',\n",
       "       'Rain Republic', 'Rancho San Jacinto', 'Ranger', 'Raoul Boulanger',\n",
       "       'Raw Cocoa', 'Republica del Cacao (aka Confecta)', 'Ritual',\n",
       "       'Roasting Masters', 'Robert (aka Chocolaterie Robert)',\n",
       "       'Rococo (Grenada Chocolate Co.)', 'Rogue', 'Rozsavolgyi',\n",
       "       'S.A.I.D.', 'SRSLY', 'Sacred', 'Salgado',\n",
       "       'Santander (Compania Nacional)', 'Santome', 'Scharffen Berger',\n",
       "       'Seaforth', 'Shark Mountain', \"Shark's\", 'Shattel', 'Shattell',\n",
       "       'Sibu', 'Sibu Sura', 'Silvio Bessone', 'Sirene', 'Sjolinds',\n",
       "       'Smooth Chocolator, The', 'Snake & Butterfly', 'Sol Cacao',\n",
       "       'Solkiki', 'Solomons Gold', 'Solstice', 'Soma', 'Somerville',\n",
       "       'Soul', 'Spagnvola', 'Spencer', 'Sprungli (Felchlin)',\n",
       "       'StRita Supreme', 'Starchild', 'Stella (aka Bernrain)',\n",
       "       'Stone Grindz', 'Sublime Origins', 'Summerbird',\n",
       "       'Suruca Chocolate', 'Svenska Kakaobolaget', 'Szanto Tibor', 'TCHO',\n",
       "       'Tabal', 'Tablette (aka Vanillabeans)', 'Tan Ban Skrati', 'Taza',\n",
       "       'Tejas', 'Terroir', 'The Barn', 'Theo', 'Theobroma',\n",
       "       'Timo A. Meyer', \"To'ak (Ecuatoriana)\", 'Tobago Estate (Pralus)',\n",
       "       'Tocoti', 'Treehouse', 'Tsara (Cinagra)', 'Two Ravens',\n",
       "       'Un Dimanche A Paris', 'Undone', 'Upchurch', 'Urzi', 'Valrhona',\n",
       "       'Vanleer (Barry Callebaut)', 'Vao Vao (Chocolaterie Robert)',\n",
       "       'Vicuna', 'Videri', 'Vietcacao (A. Morin)', 'Vintage Plantations',\n",
       "       'Vintage Plantations (Tulicorp)', 'Violet Sky', 'Vivra',\n",
       "       'Wellington Chocolate Factory', 'Whittakers', \"Wilkie's Organic\",\n",
       "       \"Willie's Cacao\", 'Wm', 'Woodblock', 'Xocolat', 'Xocolla', \"Zak's\",\n",
       "       'Zart Pralinen', 'Zokoko', 'Zotter', 'hello cocoa', 'hexx',\n",
       "       'iQ Chocolate', 'organicfair', 'twenty-four blackbirds'],\n",
       "      dtype=object)"
      ]
     },
     "execution_count": 49,
     "metadata": {},
     "output_type": "execute_result"
    }
   ],
   "source": [
    "df1['Company'].sort_values().unique()"
   ]
  },
  {
   "cell_type": "markdown",
   "metadata": {},
   "source": [
    "Notice that there are two types of 'Artisan du Chocolat', 'Black River' appears to be a subset of A. Morin, there are several names that have Tulicorp bracketed but Tulicorp is not its own option. There do not appear to be any spelling mistakes so we will leave this for now."
   ]
  },
  {
   "cell_type": "code",
   "execution_count": 50,
   "metadata": {},
   "outputs": [
    {
     "data": {
      "text/plain": [
       "array(['\"heirloom\", Arriba Nacional', '100 percent', '2009 Hapa Nibby',\n",
       "       ..., 'one hundred', 'single estate',\n",
       "       'the lost city, gracias a dias, batch 362'], dtype=object)"
      ]
     },
     "execution_count": 50,
     "metadata": {},
     "output_type": "execute_result"
    }
   ],
   "source": [
    "df1['Specific Bean Origin or Bar Name'].sort_values().unique()"
   ]
  },
  {
   "cell_type": "markdown",
   "metadata": {},
   "source": [
    "Too many to list. From what is shown though, some chocolate bars come with lower case bar names, which is unlikely to be true."
   ]
  },
  {
   "cell_type": "code",
   "execution_count": 18,
   "metadata": {},
   "outputs": [
    {
     "data": {
      "text/plain": [
       "dtype('int64')"
      ]
     },
     "execution_count": 18,
     "metadata": {},
     "output_type": "execute_result"
    }
   ],
   "source": [
    "#Check that everything in REF is a number.\n",
    "df1['REF'].dtypes"
   ]
  },
  {
   "cell_type": "code",
   "execution_count": 19,
   "metadata": {},
   "outputs": [
    {
     "data": {
      "text/plain": [
       "dtype('int64')"
      ]
     },
     "execution_count": 19,
     "metadata": {},
     "output_type": "execute_result"
    }
   ],
   "source": [
    "#Check that all Review Dates are 4 digit numbers.\n",
    "df1['Review Date'].dtypes"
   ]
  },
  {
   "cell_type": "code",
   "execution_count": 20,
   "metadata": {},
   "outputs": [
    {
     "data": {
      "text/plain": [
       "dtype('O')"
      ]
     },
     "execution_count": 20,
     "metadata": {},
     "output_type": "execute_result"
    }
   ],
   "source": [
    "#Convert the Cocoa Percent values to floating decimals.\n",
    "df1['Cocoa Percent'].dtypes"
   ]
  },
  {
   "cell_type": "code",
   "execution_count": 21,
   "metadata": {},
   "outputs": [
    {
     "data": {
      "text/plain": [
       "dtype('float64')"
      ]
     },
     "execution_count": 21,
     "metadata": {},
     "output_type": "execute_result"
    }
   ],
   "source": [
    "df1['Cocoa Percent'] = df1['Cocoa Percent'].str.replace('%','').astype(float)/100\n",
    "df1['Cocoa Percent'].dtypes"
   ]
  },
  {
   "cell_type": "code",
   "execution_count": 22,
   "metadata": {},
   "outputs": [
    {
     "data": {
      "text/plain": [
       "array(['Amsterdam', 'Argentina', 'Australia', 'Austria', 'Belgium',\n",
       "       'Bolivia', 'Brazil', 'Canada', 'Chile', 'Colombia', 'Costa Rica',\n",
       "       'Czech Republic', 'Denmark', 'Domincan Republic', 'Ecuador',\n",
       "       'Eucador', 'Fiji', 'Finland', 'France', 'Germany', 'Ghana',\n",
       "       'Grenada', 'Guatemala', 'Honduras', 'Hungary', 'Iceland', 'India',\n",
       "       'Ireland', 'Israel', 'Italy', 'Japan', 'Lithuania', 'Madagascar',\n",
       "       'Martinique', 'Mexico', 'Netherlands', 'New Zealand', 'Niacragua',\n",
       "       'Nicaragua', 'Peru', 'Philippines', 'Poland', 'Portugal',\n",
       "       'Puerto Rico', 'Russia', 'Sao Tome', 'Scotland', 'Singapore',\n",
       "       'South Africa', 'South Korea', 'Spain', 'St. Lucia', 'Suriname',\n",
       "       'Sweden', 'Switzerland', 'U.K.', 'U.S.A.', 'Venezuela', 'Vietnam',\n",
       "       'Wales'], dtype=object)"
      ]
     },
     "execution_count": 22,
     "metadata": {},
     "output_type": "execute_result"
    }
   ],
   "source": [
    "#Check spelling for Company Location values.\n",
    "df1['Company Location'].sort_values().unique()"
   ]
  },
  {
   "cell_type": "code",
   "execution_count": 23,
   "metadata": {},
   "outputs": [
    {
     "data": {
      "text/plain": [
       "array(['Argentina', 'Australia', 'Austria', 'Belgium', 'Bolivia',\n",
       "       'Brazil', 'Canada', 'Chile', 'Colombia', 'Costa Rica',\n",
       "       'Czech Republic', 'Denmark', 'Dominican Republic', 'Ecuador',\n",
       "       'Fiji', 'Finland', 'France', 'Germany', 'Ghana', 'Grenada',\n",
       "       'Guatemala', 'Honduras', 'Hungary', 'Iceland', 'India', 'Ireland',\n",
       "       'Israel', 'Italy', 'Japan', 'Lithuania', 'Madagascar',\n",
       "       'Martinique', 'Mexico', 'Netherlands', 'New Zealand', 'Nicaragua',\n",
       "       'Peru', 'Philippines', 'Poland', 'Portugal', 'Puerto Rico',\n",
       "       'Russia', 'Sao Tome', 'Scotland', 'Singapore', 'South Africa',\n",
       "       'South Korea', 'Spain', 'St. Lucia', 'Suriname', 'Sweden',\n",
       "       'Switzerland', 'U.K.', 'U.S.A.', 'Venezuela', 'Vietnam', 'Wales'],\n",
       "      dtype=object)"
      ]
     },
     "execution_count": 23,
     "metadata": {},
     "output_type": "execute_result"
    }
   ],
   "source": [
    "#Domincan Republic (Dominican Republic), Eucador (Ecuador), Niacragua (Nicaragua) are spelt wrong. Amsterdam is the capital of the Netherlands.\n",
    "df1['Company Location'] = df1['Company Location']\\\n",
    ".str.replace('Domincan Republic', 'Dominican Republic')\\\n",
    ".str.replace('Eucador', 'Ecuador')\\\n",
    ".str.replace('Amsterdam', 'Netherlands')\\\n",
    ".str.replace('Niacragua', 'Nicaragua')\n",
    "\n",
    "df1['Company Location'].sort_values().unique()"
   ]
  },
  {
   "cell_type": "code",
   "execution_count": 24,
   "metadata": {},
   "outputs": [
    {
     "data": {
      "text/plain": [
       "dtype('float64')"
      ]
     },
     "execution_count": 24,
     "metadata": {},
     "output_type": "execute_result"
    }
   ],
   "source": [
    "#Check that all characters for Rating are numbers or decimals.\n",
    "df1['Rating'].dtypes"
   ]
  },
  {
   "cell_type": "code",
   "execution_count": 25,
   "metadata": {},
   "outputs": [
    {
     "data": {
      "text/plain": [
       "array(['Amazon', 'Amazon mix', 'Amazon, ICS', 'Beniano', 'Blend',\n",
       "       'Blend-Forastero,Criollo', 'CCN51', 'Criollo', 'Criollo (Amarru)',\n",
       "       'Criollo (Ocumare 61)', 'Criollo (Ocumare 67)',\n",
       "       'Criollo (Ocumare 77)', 'Criollo (Ocumare)', 'Criollo (Porcelana)',\n",
       "       'Criollo (Wild)', 'Criollo, +', 'Criollo, Forastero',\n",
       "       'Criollo, Trinitario', 'EET', 'Forastero', 'Forastero (Amelonado)',\n",
       "       'Forastero (Arriba)', 'Forastero (Arriba) ASS',\n",
       "       'Forastero (Arriba) ASSS', 'Forastero (Catongo)',\n",
       "       'Forastero (Nacional)', 'Forastero (Parazinho)',\n",
       "       'Forastero(Arriba, CCN)', 'Forastero, Trinitario', 'Matina',\n",
       "       'Nacional', 'Nacional (Arriba)', 'Trinitario',\n",
       "       'Trinitario (85% Criollo)', 'Trinitario (Amelonado)',\n",
       "       'Trinitario (Scavina)', 'Trinitario, Criollo',\n",
       "       'Trinitario, Forastero', 'Trinitario, Nacional',\n",
       "       'Trinitario, TCGA', '\\xa0', nan], dtype=object)"
      ]
     },
     "execution_count": 25,
     "metadata": {},
     "output_type": "execute_result"
    }
   ],
   "source": [
    "#Check the spelling of Bean Type values.\n",
    "df1['Bean Type'].sort_values().unique()\n",
    "#We can see there are derivations of certain types, there are values of '\\xa0', and values of nan. No spelling errors sighted."
   ]
  },
  {
   "cell_type": "code",
   "execution_count": 51,
   "metadata": {},
   "outputs": [
    {
     "data": {
      "text/plain": [
       "array(['Africa, Carribean, C. Am.', 'Australia', 'Belize', 'Bolivia',\n",
       "       'Brazil', 'Burma', 'Cameroon', 'Carribean',\n",
       "       'Carribean(DR/Jam/Tri)', 'Central and S. America', 'Colombia',\n",
       "       'Colombia, Ecuador', 'Congo', 'Cost Rica, Ven', 'Costa Rica',\n",
       "       'Cuba', 'DR, Ecuador, Peru', 'Dom. Rep., Madagascar',\n",
       "       'Domincan Republic', 'Dominican Rep., Bali', 'Dominican Republic',\n",
       "       'Ecuador', 'Ecuador, Costa Rica', 'Ecuador, Mad., PNG',\n",
       "       'El Salvador', 'Fiji', 'Gabon', 'Ghana', 'Ghana & Madagascar',\n",
       "       'Ghana, Domin. Rep', 'Ghana, Panama, Ecuador',\n",
       "       'Gre., PNG, Haw., Haiti, Mad', 'Grenada',\n",
       "       'Guat., D.R., Peru, Mad., PNG', 'Guatemala', 'Haiti', 'Hawaii',\n",
       "       'Honduras', 'India', 'Indonesia', 'Indonesia, Ghana',\n",
       "       'Ivory Coast', 'Jamaica', 'Liberia', 'Mad., Java, PNG',\n",
       "       'Madagascar', 'Madagascar & Ecuador', 'Malaysia', 'Martinique',\n",
       "       'Mexico', 'Nicaragua', 'Nigeria', 'PNG, Vanuatu, Mad', 'Panama',\n",
       "       'Papua New Guinea', 'Peru', 'Peru(SMartin,Pangoa,nacional)',\n",
       "       'Peru, Belize', 'Peru, Dom. Rep', 'Peru, Ecuador',\n",
       "       'Peru, Ecuador, Venezuela', 'Peru, Mad., Dom. Rep.',\n",
       "       'Peru, Madagascar', 'Philippines', 'Principe', 'Puerto Rico',\n",
       "       'Samoa', 'Sao Tome', 'Sao Tome & Principe', 'Solomon Islands',\n",
       "       'South America', 'South America, Africa', 'Sri Lanka', 'St. Lucia',\n",
       "       'Suriname', 'Tanzania', 'Tobago', 'Togo', 'Trinidad',\n",
       "       'Trinidad, Ecuador', 'Trinidad, Tobago', 'Trinidad-Tobago',\n",
       "       'Uganda', 'Vanuatu', 'Ven, Bolivia, D.R.',\n",
       "       'Ven, Trinidad, Ecuador', 'Ven., Indonesia, Ecuad.',\n",
       "       'Ven., Trinidad, Mad.', 'Ven.,Ecu.,Peru,Nic.',\n",
       "       'Venez,Africa,Brasil,Peru,Mex', 'Venezuela',\n",
       "       'Venezuela, Carribean', 'Venezuela, Dom. Rep.', 'Venezuela, Ghana',\n",
       "       'Venezuela, Java', 'Venezuela, Trinidad', 'Venezuela/ Ghana',\n",
       "       'Vietnam', 'West Africa', '\\xa0'], dtype=object)"
      ]
     },
     "execution_count": 51,
     "metadata": {},
     "output_type": "execute_result"
    }
   ],
   "source": [
    "#Check the spelling of Broad Bean Origin values.\n",
    "df1['Broad Bean Origin'].sort_values().unique()"
   ]
  },
  {
   "cell_type": "code",
   "execution_count": 52,
   "metadata": {},
   "outputs": [
    {
     "data": {
      "text/plain": [
       "array(['Nine', 'Toscano Black', 'Houseblend', 'Nature', 'Organic Dark',\n",
       "       'One Hundred', 'Blend', 'Lago di Como, Blu', 'Blend No. 1',\n",
       "       'Philly Blend, 5 plantations', 'Kendari', 'Tarakan', 'Maragda',\n",
       "       'Sensations Intense', 'Zorzal Reserva, 2015 H., Kerchner', 'Noir',\n",
       "       'Ilblend', 'Red Vanilla', 'Supremo- SF', 'Dark',\n",
       "       'Epique, Blend No. 49', 'Coucher du Soleil', 'Lever du Soleil',\n",
       "       'Onyx', 'Nocturne', 'Complexite', 'Special Maker Reserve',\n",
       "       'Quetzalcoatl', 'Tsaranta', 'Semisweet', 'Campesino w/ nibs',\n",
       "       'Trinitario', 'Downtown London', 'Africa meets Latina', 'Amazonas',\n",
       "       'one hundred', 'Kuruba', 'Orinoco', 'Excellence (US Version)',\n",
       "       'Cacao Nib Crunch', 'Brooklyn Blend', 'Carre Amer',\n",
       "       'Carre Grand Noir', 'Noir Infini',\n",
       "       'Grand Cru Blend No.1, 5 yr. Anniversary Ed', 'Signature Blend',\n",
       "       'Raw', 'Mid Mountain, 2014', '100 percent', 'Latino', 'Nibby',\n",
       "       'Extra Dark', 'Bittersweet', 'Wasatch', \"Chef's Blend\",\n",
       "       'TCHOPro 60.5', 'TCHOPro 68', 'Andoa, Grand Cru blend', 'Caraque',\n",
       "       'Le Noir Extra Amer', 'House Blend, Batch 2', 'Goddess Blend',\n",
       "       'Amazonas Frucht', 'Indianer, Raw'], dtype=object)"
      ]
     },
     "execution_count": 52,
     "metadata": {},
     "output_type": "execute_result"
    }
   ],
   "source": [
    "df1[df1['Broad Bean Origin'].str.len()==1]['Specific Bean Origin or Bar Name'].unique()"
   ]
  },
  {
   "cell_type": "markdown",
   "metadata": {},
   "source": [
    "We can see that some of our responses are blends or blend types. This may helpful for determining the missing values in the Bean Type column."
   ]
  },
  {
   "cell_type": "code",
   "execution_count": 53,
   "metadata": {},
   "outputs": [
    {
     "data": {
      "text/html": [
       "<div>\n",
       "<style scoped>\n",
       "    .dataframe tbody tr th:only-of-type {\n",
       "        vertical-align: middle;\n",
       "    }\n",
       "\n",
       "    .dataframe tbody tr th {\n",
       "        vertical-align: top;\n",
       "    }\n",
       "\n",
       "    .dataframe thead th {\n",
       "        text-align: right;\n",
       "    }\n",
       "</style>\n",
       "<table border=\"1\" class=\"dataframe\">\n",
       "  <thead>\n",
       "    <tr style=\"text-align: right;\">\n",
       "      <th></th>\n",
       "      <th>Company</th>\n",
       "      <th>Specific Bean Origin or Bar Name</th>\n",
       "      <th>REF</th>\n",
       "      <th>Review Date</th>\n",
       "      <th>Cocoa Percent</th>\n",
       "      <th>Company Location</th>\n",
       "      <th>Rating</th>\n",
       "      <th>Bean Type</th>\n",
       "      <th>Broad Bean Origin</th>\n",
       "    </tr>\n",
       "  </thead>\n",
       "  <tbody>\n",
       "    <tr>\n",
       "      <th>0</th>\n",
       "      <td>A. Morin</td>\n",
       "      <td>Agua Grande</td>\n",
       "      <td>1876</td>\n",
       "      <td>2016</td>\n",
       "      <td>0.63</td>\n",
       "      <td>France</td>\n",
       "      <td>3.75</td>\n",
       "      <td></td>\n",
       "      <td>Sao Tome</td>\n",
       "    </tr>\n",
       "    <tr>\n",
       "      <th>1</th>\n",
       "      <td>A. Morin</td>\n",
       "      <td>Kpime</td>\n",
       "      <td>1676</td>\n",
       "      <td>2015</td>\n",
       "      <td>0.70</td>\n",
       "      <td>France</td>\n",
       "      <td>2.75</td>\n",
       "      <td></td>\n",
       "      <td>Togo</td>\n",
       "    </tr>\n",
       "    <tr>\n",
       "      <th>2</th>\n",
       "      <td>A. Morin</td>\n",
       "      <td>Atsane</td>\n",
       "      <td>1676</td>\n",
       "      <td>2015</td>\n",
       "      <td>0.70</td>\n",
       "      <td>France</td>\n",
       "      <td>3.00</td>\n",
       "      <td></td>\n",
       "      <td>Togo</td>\n",
       "    </tr>\n",
       "    <tr>\n",
       "      <th>3</th>\n",
       "      <td>A. Morin</td>\n",
       "      <td>Akata</td>\n",
       "      <td>1680</td>\n",
       "      <td>2015</td>\n",
       "      <td>0.70</td>\n",
       "      <td>France</td>\n",
       "      <td>3.50</td>\n",
       "      <td></td>\n",
       "      <td>Togo</td>\n",
       "    </tr>\n",
       "    <tr>\n",
       "      <th>4</th>\n",
       "      <td>A. Morin</td>\n",
       "      <td>Quilla</td>\n",
       "      <td>1704</td>\n",
       "      <td>2015</td>\n",
       "      <td>0.70</td>\n",
       "      <td>France</td>\n",
       "      <td>3.50</td>\n",
       "      <td></td>\n",
       "      <td>Peru</td>\n",
       "    </tr>\n",
       "  </tbody>\n",
       "</table>\n",
       "</div>"
      ],
      "text/plain": [
       "    Company Specific Bean Origin or Bar Name   REF  Review Date  \\\n",
       "0  A. Morin                      Agua Grande  1876         2016   \n",
       "1  A. Morin                            Kpime  1676         2015   \n",
       "2  A. Morin                           Atsane  1676         2015   \n",
       "3  A. Morin                            Akata  1680         2015   \n",
       "4  A. Morin                           Quilla  1704         2015   \n",
       "\n",
       "   Cocoa Percent Company Location  Rating Bean Type Broad Bean Origin  \n",
       "0           0.63           France    3.75                    Sao Tome  \n",
       "1           0.70           France    2.75                        Togo  \n",
       "2           0.70           France    3.00                        Togo  \n",
       "3           0.70           France    3.50                        Togo  \n",
       "4           0.70           France    3.50                        Peru  "
      ]
     },
     "execution_count": 53,
     "metadata": {},
     "output_type": "execute_result"
    }
   ],
   "source": [
    "# To check the appearance of the df after cleaning.\n",
    "df1.head()"
   ]
  },
  {
   "cell_type": "markdown",
   "metadata": {},
   "source": [
    "## Answering Unasked Questions <a name=\"myanswers\"></a>\n",
    "We are done with cleaning the dataframe. We will now explore to see if we can interesting facts before answering the questions on the Kaggle page. Perhaps this will help guide our approach in answering those questions."
   ]
  },
  {
   "cell_type": "code",
   "execution_count": 29,
   "metadata": {},
   "outputs": [
    {
     "data": {
      "text/html": [
       "<div>\n",
       "<style scoped>\n",
       "    .dataframe tbody tr th:only-of-type {\n",
       "        vertical-align: middle;\n",
       "    }\n",
       "\n",
       "    .dataframe tbody tr th {\n",
       "        vertical-align: top;\n",
       "    }\n",
       "\n",
       "    .dataframe thead th {\n",
       "        text-align: right;\n",
       "    }\n",
       "</style>\n",
       "<table border=\"1\" class=\"dataframe\">\n",
       "  <thead>\n",
       "    <tr style=\"text-align: right;\">\n",
       "      <th></th>\n",
       "      <th>Company</th>\n",
       "      <th>Specific Bean Origin or Bar Name</th>\n",
       "      <th>REF</th>\n",
       "      <th>Review Date</th>\n",
       "      <th>Cocoa Percent</th>\n",
       "      <th>Company Location</th>\n",
       "      <th>Rating</th>\n",
       "      <th>Bean Type</th>\n",
       "      <th>Broad Bean Origin</th>\n",
       "    </tr>\n",
       "  </thead>\n",
       "  <tbody>\n",
       "    <tr>\n",
       "      <th>78</th>\n",
       "      <td>Amedei</td>\n",
       "      <td>Chuao</td>\n",
       "      <td>111</td>\n",
       "      <td>2007</td>\n",
       "      <td>0.7</td>\n",
       "      <td>Italy</td>\n",
       "      <td>5.0</td>\n",
       "      <td>Trinitario</td>\n",
       "      <td>Venezuela</td>\n",
       "    </tr>\n",
       "    <tr>\n",
       "      <th>86</th>\n",
       "      <td>Amedei</td>\n",
       "      <td>Toscano Black</td>\n",
       "      <td>40</td>\n",
       "      <td>2006</td>\n",
       "      <td>0.7</td>\n",
       "      <td>Italy</td>\n",
       "      <td>5.0</td>\n",
       "      <td>Blend</td>\n",
       "      <td></td>\n",
       "    </tr>\n",
       "  </tbody>\n",
       "</table>\n",
       "</div>"
      ],
      "text/plain": [
       "   Company Specific Bean Origin or Bar Name  REF  Review Date  Cocoa Percent  \\\n",
       "78  Amedei                            Chuao  111         2007            0.7   \n",
       "86  Amedei                    Toscano Black   40         2006            0.7   \n",
       "\n",
       "   Company Location  Rating   Bean Type Broad Bean Origin  \n",
       "78            Italy     5.0  Trinitario         Venezuela  \n",
       "86            Italy     5.0       Blend                    "
      ]
     },
     "execution_count": 29,
     "metadata": {},
     "output_type": "execute_result"
    }
   ],
   "source": [
    "df1[df1['Rating']==5.00]"
   ]
  },
  {
   "cell_type": "markdown",
   "metadata": {},
   "source": [
    "Some similarities we can see are the Companies are the same. The Cocoa Percent values are the same. The Company's Location is the same. Let's see what is happening when check for the behaviour of each similarity in the broader df1 in order from left ot right."
   ]
  },
  {
   "cell_type": "code",
   "execution_count": 30,
   "metadata": {},
   "outputs": [
    {
     "data": {
      "text/html": [
       "<div>\n",
       "<style scoped>\n",
       "    .dataframe tbody tr th:only-of-type {\n",
       "        vertical-align: middle;\n",
       "    }\n",
       "\n",
       "    .dataframe tbody tr th {\n",
       "        vertical-align: top;\n",
       "    }\n",
       "\n",
       "    .dataframe thead th {\n",
       "        text-align: right;\n",
       "    }\n",
       "</style>\n",
       "<table border=\"1\" class=\"dataframe\">\n",
       "  <thead>\n",
       "    <tr style=\"text-align: right;\">\n",
       "      <th></th>\n",
       "      <th>Company</th>\n",
       "      <th>Specific Bean Origin or Bar Name</th>\n",
       "      <th>REF</th>\n",
       "      <th>Review Date</th>\n",
       "      <th>Cocoa Percent</th>\n",
       "      <th>Company Location</th>\n",
       "      <th>Rating</th>\n",
       "      <th>Bean Type</th>\n",
       "      <th>Broad Bean Origin</th>\n",
       "    </tr>\n",
       "  </thead>\n",
       "  <tbody>\n",
       "    <tr>\n",
       "      <th>75</th>\n",
       "      <td>Amedei</td>\n",
       "      <td>Piura, Blanco de Criollo</td>\n",
       "      <td>979</td>\n",
       "      <td>2012</td>\n",
       "      <td>0.70</td>\n",
       "      <td>Italy</td>\n",
       "      <td>3.75</td>\n",
       "      <td></td>\n",
       "      <td>Peru</td>\n",
       "    </tr>\n",
       "    <tr>\n",
       "      <th>76</th>\n",
       "      <td>Amedei</td>\n",
       "      <td>Porcelana</td>\n",
       "      <td>111</td>\n",
       "      <td>2007</td>\n",
       "      <td>0.70</td>\n",
       "      <td>Italy</td>\n",
       "      <td>4.00</td>\n",
       "      <td>Criollo (Porcelana)</td>\n",
       "      <td>Venezuela</td>\n",
       "    </tr>\n",
       "    <tr>\n",
       "      <th>77</th>\n",
       "      <td>Amedei</td>\n",
       "      <td>Nine</td>\n",
       "      <td>111</td>\n",
       "      <td>2007</td>\n",
       "      <td>0.75</td>\n",
       "      <td>Italy</td>\n",
       "      <td>4.00</td>\n",
       "      <td>Blend</td>\n",
       "      <td></td>\n",
       "    </tr>\n",
       "    <tr>\n",
       "      <th>78</th>\n",
       "      <td>Amedei</td>\n",
       "      <td>Chuao</td>\n",
       "      <td>111</td>\n",
       "      <td>2007</td>\n",
       "      <td>0.70</td>\n",
       "      <td>Italy</td>\n",
       "      <td>5.00</td>\n",
       "      <td>Trinitario</td>\n",
       "      <td>Venezuela</td>\n",
       "    </tr>\n",
       "    <tr>\n",
       "      <th>79</th>\n",
       "      <td>Amedei</td>\n",
       "      <td>Ecuador</td>\n",
       "      <td>123</td>\n",
       "      <td>2007</td>\n",
       "      <td>0.70</td>\n",
       "      <td>Italy</td>\n",
       "      <td>3.00</td>\n",
       "      <td>Trinitario</td>\n",
       "      <td>Ecuador</td>\n",
       "    </tr>\n",
       "    <tr>\n",
       "      <th>80</th>\n",
       "      <td>Amedei</td>\n",
       "      <td>Jamaica</td>\n",
       "      <td>123</td>\n",
       "      <td>2007</td>\n",
       "      <td>0.70</td>\n",
       "      <td>Italy</td>\n",
       "      <td>3.00</td>\n",
       "      <td>Trinitario</td>\n",
       "      <td>Jamaica</td>\n",
       "    </tr>\n",
       "    <tr>\n",
       "      <th>81</th>\n",
       "      <td>Amedei</td>\n",
       "      <td>Grenada</td>\n",
       "      <td>123</td>\n",
       "      <td>2007</td>\n",
       "      <td>0.70</td>\n",
       "      <td>Italy</td>\n",
       "      <td>3.50</td>\n",
       "      <td>Trinitario</td>\n",
       "      <td>Grenada</td>\n",
       "    </tr>\n",
       "    <tr>\n",
       "      <th>82</th>\n",
       "      <td>Amedei</td>\n",
       "      <td>Venezuela</td>\n",
       "      <td>123</td>\n",
       "      <td>2007</td>\n",
       "      <td>0.70</td>\n",
       "      <td>Italy</td>\n",
       "      <td>3.75</td>\n",
       "      <td>Trinitario (85% Criollo)</td>\n",
       "      <td>Venezuela</td>\n",
       "    </tr>\n",
       "    <tr>\n",
       "      <th>83</th>\n",
       "      <td>Amedei</td>\n",
       "      <td>Madagascar</td>\n",
       "      <td>123</td>\n",
       "      <td>2007</td>\n",
       "      <td>0.70</td>\n",
       "      <td>Italy</td>\n",
       "      <td>4.00</td>\n",
       "      <td>Trinitario (85% Criollo)</td>\n",
       "      <td>Madagascar</td>\n",
       "    </tr>\n",
       "    <tr>\n",
       "      <th>84</th>\n",
       "      <td>Amedei</td>\n",
       "      <td>Trinidad</td>\n",
       "      <td>129</td>\n",
       "      <td>2007</td>\n",
       "      <td>0.70</td>\n",
       "      <td>Italy</td>\n",
       "      <td>3.50</td>\n",
       "      <td>Trinitario</td>\n",
       "      <td>Trinidad</td>\n",
       "    </tr>\n",
       "    <tr>\n",
       "      <th>85</th>\n",
       "      <td>Amedei</td>\n",
       "      <td>Toscano Black</td>\n",
       "      <td>170</td>\n",
       "      <td>2007</td>\n",
       "      <td>0.63</td>\n",
       "      <td>Italy</td>\n",
       "      <td>3.50</td>\n",
       "      <td>Blend</td>\n",
       "      <td></td>\n",
       "    </tr>\n",
       "    <tr>\n",
       "      <th>86</th>\n",
       "      <td>Amedei</td>\n",
       "      <td>Toscano Black</td>\n",
       "      <td>40</td>\n",
       "      <td>2006</td>\n",
       "      <td>0.70</td>\n",
       "      <td>Italy</td>\n",
       "      <td>5.00</td>\n",
       "      <td>Blend</td>\n",
       "      <td></td>\n",
       "    </tr>\n",
       "    <tr>\n",
       "      <th>87</th>\n",
       "      <td>Amedei</td>\n",
       "      <td>Toscano Black</td>\n",
       "      <td>75</td>\n",
       "      <td>2006</td>\n",
       "      <td>0.66</td>\n",
       "      <td>Italy</td>\n",
       "      <td>4.00</td>\n",
       "      <td>Blend</td>\n",
       "      <td></td>\n",
       "    </tr>\n",
       "  </tbody>\n",
       "</table>\n",
       "</div>"
      ],
      "text/plain": [
       "   Company Specific Bean Origin or Bar Name  REF  Review Date  Cocoa Percent  \\\n",
       "75  Amedei         Piura, Blanco de Criollo  979         2012           0.70   \n",
       "76  Amedei                        Porcelana  111         2007           0.70   \n",
       "77  Amedei                             Nine  111         2007           0.75   \n",
       "78  Amedei                            Chuao  111         2007           0.70   \n",
       "79  Amedei                          Ecuador  123         2007           0.70   \n",
       "80  Amedei                          Jamaica  123         2007           0.70   \n",
       "81  Amedei                          Grenada  123         2007           0.70   \n",
       "82  Amedei                        Venezuela  123         2007           0.70   \n",
       "83  Amedei                       Madagascar  123         2007           0.70   \n",
       "84  Amedei                         Trinidad  129         2007           0.70   \n",
       "85  Amedei                    Toscano Black  170         2007           0.63   \n",
       "86  Amedei                    Toscano Black   40         2006           0.70   \n",
       "87  Amedei                    Toscano Black   75         2006           0.66   \n",
       "\n",
       "   Company Location  Rating                 Bean Type Broad Bean Origin  \n",
       "75            Italy    3.75                                        Peru  \n",
       "76            Italy    4.00       Criollo (Porcelana)         Venezuela  \n",
       "77            Italy    4.00                     Blend                    \n",
       "78            Italy    5.00                Trinitario         Venezuela  \n",
       "79            Italy    3.00                Trinitario           Ecuador  \n",
       "80            Italy    3.00                Trinitario           Jamaica  \n",
       "81            Italy    3.50                Trinitario           Grenada  \n",
       "82            Italy    3.75  Trinitario (85% Criollo)         Venezuela  \n",
       "83            Italy    4.00  Trinitario (85% Criollo)        Madagascar  \n",
       "84            Italy    3.50                Trinitario          Trinidad  \n",
       "85            Italy    3.50                     Blend                    \n",
       "86            Italy    5.00                     Blend                    \n",
       "87            Italy    4.00                     Blend                    "
      ]
     },
     "execution_count": 30,
     "metadata": {},
     "output_type": "execute_result"
    }
   ],
   "source": [
    "df1[df1['Company']=='Amedei']"
   ]
  },
  {
   "cell_type": "markdown",
   "metadata": {},
   "source": [
    "We can see that Company is not a really good indicator of how popular a chocolate bar is going to be. "
   ]
  },
  {
   "cell_type": "code",
   "execution_count": 31,
   "metadata": {},
   "outputs": [
    {
     "data": {
      "text/html": [
       "<div>\n",
       "<style scoped>\n",
       "    .dataframe tbody tr th:only-of-type {\n",
       "        vertical-align: middle;\n",
       "    }\n",
       "\n",
       "    .dataframe tbody tr th {\n",
       "        vertical-align: top;\n",
       "    }\n",
       "\n",
       "    .dataframe thead th {\n",
       "        text-align: right;\n",
       "    }\n",
       "</style>\n",
       "<table border=\"1\" class=\"dataframe\">\n",
       "  <thead>\n",
       "    <tr style=\"text-align: right;\">\n",
       "      <th></th>\n",
       "      <th>REF</th>\n",
       "      <th>Review Date</th>\n",
       "      <th>Cocoa Percent</th>\n",
       "      <th>Rating</th>\n",
       "    </tr>\n",
       "  </thead>\n",
       "  <tbody>\n",
       "    <tr>\n",
       "      <th>count</th>\n",
       "      <td>672.000000</td>\n",
       "      <td>672.000000</td>\n",
       "      <td>6.720000e+02</td>\n",
       "      <td>672.000000</td>\n",
       "    </tr>\n",
       "    <tr>\n",
       "      <th>mean</th>\n",
       "      <td>1161.764881</td>\n",
       "      <td>2012.977679</td>\n",
       "      <td>7.000000e-01</td>\n",
       "      <td>3.276042</td>\n",
       "    </tr>\n",
       "    <tr>\n",
       "      <th>std</th>\n",
       "      <td>532.368519</td>\n",
       "      <td>2.717900</td>\n",
       "      <td>7.666245e-15</td>\n",
       "      <td>0.452957</td>\n",
       "    </tr>\n",
       "    <tr>\n",
       "      <th>min</th>\n",
       "      <td>15.000000</td>\n",
       "      <td>2006.000000</td>\n",
       "      <td>7.000000e-01</td>\n",
       "      <td>1.000000</td>\n",
       "    </tr>\n",
       "    <tr>\n",
       "      <th>25%</th>\n",
       "      <td>792.000000</td>\n",
       "      <td>2011.750000</td>\n",
       "      <td>7.000000e-01</td>\n",
       "      <td>3.000000</td>\n",
       "    </tr>\n",
       "    <tr>\n",
       "      <th>50%</th>\n",
       "      <td>1251.000000</td>\n",
       "      <td>2014.000000</td>\n",
       "      <td>7.000000e-01</td>\n",
       "      <td>3.250000</td>\n",
       "    </tr>\n",
       "    <tr>\n",
       "      <th>75%</th>\n",
       "      <td>1614.000000</td>\n",
       "      <td>2015.000000</td>\n",
       "      <td>7.000000e-01</td>\n",
       "      <td>3.500000</td>\n",
       "    </tr>\n",
       "    <tr>\n",
       "      <th>max</th>\n",
       "      <td>1952.000000</td>\n",
       "      <td>2017.000000</td>\n",
       "      <td>7.000000e-01</td>\n",
       "      <td>5.000000</td>\n",
       "    </tr>\n",
       "  </tbody>\n",
       "</table>\n",
       "</div>"
      ],
      "text/plain": [
       "               REF  Review Date  Cocoa Percent      Rating\n",
       "count   672.000000   672.000000   6.720000e+02  672.000000\n",
       "mean   1161.764881  2012.977679   7.000000e-01    3.276042\n",
       "std     532.368519     2.717900   7.666245e-15    0.452957\n",
       "min      15.000000  2006.000000   7.000000e-01    1.000000\n",
       "25%     792.000000  2011.750000   7.000000e-01    3.000000\n",
       "50%    1251.000000  2014.000000   7.000000e-01    3.250000\n",
       "75%    1614.000000  2015.000000   7.000000e-01    3.500000\n",
       "max    1952.000000  2017.000000   7.000000e-01    5.000000"
      ]
     },
     "execution_count": 31,
     "metadata": {},
     "output_type": "execute_result"
    }
   ],
   "source": [
    "df1[df1['Cocoa Percent']==0.7].describe()"
   ]
  },
  {
   "cell_type": "code",
   "execution_count": 32,
   "metadata": {},
   "outputs": [
    {
     "data": {
      "text/html": [
       "<div>\n",
       "<style scoped>\n",
       "    .dataframe tbody tr th:only-of-type {\n",
       "        vertical-align: middle;\n",
       "    }\n",
       "\n",
       "    .dataframe tbody tr th {\n",
       "        vertical-align: top;\n",
       "    }\n",
       "\n",
       "    .dataframe thead th {\n",
       "        text-align: right;\n",
       "    }\n",
       "</style>\n",
       "<table border=\"1\" class=\"dataframe\">\n",
       "  <thead>\n",
       "    <tr style=\"text-align: right;\">\n",
       "      <th></th>\n",
       "      <th>Company</th>\n",
       "      <th>Specific Bean Origin or Bar Name</th>\n",
       "      <th>REF</th>\n",
       "      <th>Review Date</th>\n",
       "      <th>Cocoa Percent</th>\n",
       "      <th>Company Location</th>\n",
       "      <th>Rating</th>\n",
       "      <th>Bean Type</th>\n",
       "      <th>Broad Bean Origin</th>\n",
       "    </tr>\n",
       "  </thead>\n",
       "  <tbody>\n",
       "    <tr>\n",
       "      <th>76</th>\n",
       "      <td>Amedei</td>\n",
       "      <td>Porcelana</td>\n",
       "      <td>111</td>\n",
       "      <td>2007</td>\n",
       "      <td>0.7</td>\n",
       "      <td>Italy</td>\n",
       "      <td>4.00</td>\n",
       "      <td>Criollo (Porcelana)</td>\n",
       "      <td>Venezuela</td>\n",
       "    </tr>\n",
       "    <tr>\n",
       "      <th>78</th>\n",
       "      <td>Amedei</td>\n",
       "      <td>Chuao</td>\n",
       "      <td>111</td>\n",
       "      <td>2007</td>\n",
       "      <td>0.7</td>\n",
       "      <td>Italy</td>\n",
       "      <td>5.00</td>\n",
       "      <td>Trinitario</td>\n",
       "      <td>Venezuela</td>\n",
       "    </tr>\n",
       "    <tr>\n",
       "      <th>82</th>\n",
       "      <td>Amedei</td>\n",
       "      <td>Venezuela</td>\n",
       "      <td>123</td>\n",
       "      <td>2007</td>\n",
       "      <td>0.7</td>\n",
       "      <td>Italy</td>\n",
       "      <td>3.75</td>\n",
       "      <td>Trinitario (85% Criollo)</td>\n",
       "      <td>Venezuela</td>\n",
       "    </tr>\n",
       "  </tbody>\n",
       "</table>\n",
       "</div>"
      ],
      "text/plain": [
       "   Company Specific Bean Origin or Bar Name  REF  Review Date  Cocoa Percent  \\\n",
       "76  Amedei                        Porcelana  111         2007            0.7   \n",
       "78  Amedei                            Chuao  111         2007            0.7   \n",
       "82  Amedei                        Venezuela  123         2007            0.7   \n",
       "\n",
       "   Company Location  Rating                 Bean Type Broad Bean Origin  \n",
       "76            Italy    4.00       Criollo (Porcelana)         Venezuela  \n",
       "78            Italy    5.00                Trinitario         Venezuela  \n",
       "82            Italy    3.75  Trinitario (85% Criollo)         Venezuela  "
      ]
     },
     "execution_count": 32,
     "metadata": {},
     "output_type": "execute_result"
    }
   ],
   "source": [
    "df1[(df1['Broad Bean Origin'] == 'Venezuela') & (df1['Company']=='Amedei')]"
   ]
  },
  {
   "cell_type": "markdown",
   "metadata": {},
   "source": [
    "The ratings for a Cooa Percent of 0.7 really run the gamut. The minimum value is 1.0 and the maximum is 5.0. So we can see that neither Company name nor Cocoa Percent gives us a good indicator of when a chocolate bar will be more popular even when in conjunction with one another. Amedei produces two good chocolate bars in the same year, 2007. It seems like they tried to compbine the bean types for the third chocolate bar, indexed 82, but that did worse than both of them. However Amedei is the only company to create 5.0 rating chocolates in the dataset so we'll keep that as a point in their favour. "
   ]
  },
  {
   "cell_type": "markdown",
   "metadata": {},
   "source": [
    "## Answering Asked Questions <a name=\"answers\"></a>\n",
    "Now that we have our own mini-exploration of the cleaned dataframe, let's attempt to answer the questions from the provided Kaggle problems.'\n",
    "\n",
    "Where are the best cocoa beans grown?\n",
    "\n",
    "Let's look at the following:"
   ]
  },
  {
   "cell_type": "code",
   "execution_count": 33,
   "metadata": {},
   "outputs": [
    {
     "data": {
      "text/html": [
       "<div>\n",
       "<style scoped>\n",
       "    .dataframe tbody tr th:only-of-type {\n",
       "        vertical-align: middle;\n",
       "    }\n",
       "\n",
       "    .dataframe tbody tr th {\n",
       "        vertical-align: top;\n",
       "    }\n",
       "\n",
       "    .dataframe thead th {\n",
       "        text-align: right;\n",
       "    }\n",
       "</style>\n",
       "<table border=\"1\" class=\"dataframe\">\n",
       "  <thead>\n",
       "    <tr style=\"text-align: right;\">\n",
       "      <th></th>\n",
       "      <th>Broad Bean Origin</th>\n",
       "      <th>Company</th>\n",
       "      <th>Specific Bean Origin or Bar Name</th>\n",
       "      <th>REF</th>\n",
       "      <th>Review Date</th>\n",
       "      <th>Cocoa Percent</th>\n",
       "      <th>Company Location</th>\n",
       "      <th>Rating</th>\n",
       "      <th>Bean Type</th>\n",
       "    </tr>\n",
       "  </thead>\n",
       "  <tbody>\n",
       "    <tr>\n",
       "      <th>0</th>\n",
       "      <td>Belize</td>\n",
       "      <td>Castronovo</td>\n",
       "      <td>Maya Mtn, Batch 454, Heirloom</td>\n",
       "      <td>1724</td>\n",
       "      <td>2016</td>\n",
       "      <td>0.72</td>\n",
       "      <td>U.S.A.</td>\n",
       "      <td>4.0</td>\n",
       "      <td>Trinitario</td>\n",
       "    </tr>\n",
       "    <tr>\n",
       "      <th>1</th>\n",
       "      <td>Bolivia</td>\n",
       "      <td>Rogue</td>\n",
       "      <td>Wild Beni, Lower Rio Beni, Tranquilidad, 2015</td>\n",
       "      <td>1744</td>\n",
       "      <td>2016</td>\n",
       "      <td>0.75</td>\n",
       "      <td>U.S.A.</td>\n",
       "      <td>4.0</td>\n",
       "      <td></td>\n",
       "    </tr>\n",
       "    <tr>\n",
       "      <th>2</th>\n",
       "      <td>Brazil</td>\n",
       "      <td>L.A. Burdick (Felchlin)</td>\n",
       "      <td>Monte Alegre, 3 diff. plantations</td>\n",
       "      <td>1339</td>\n",
       "      <td>2014</td>\n",
       "      <td>0.75</td>\n",
       "      <td>U.S.A.</td>\n",
       "      <td>4.0</td>\n",
       "      <td></td>\n",
       "    </tr>\n",
       "    <tr>\n",
       "      <th>3</th>\n",
       "      <td>Colombia</td>\n",
       "      <td>Willie's Cacao</td>\n",
       "      <td>Sierra Nevada, Tutu Iku</td>\n",
       "      <td>1848</td>\n",
       "      <td>2016</td>\n",
       "      <td>0.70</td>\n",
       "      <td>U.K.</td>\n",
       "      <td>4.0</td>\n",
       "      <td></td>\n",
       "    </tr>\n",
       "    <tr>\n",
       "      <th>4</th>\n",
       "      <td>Costa Rica</td>\n",
       "      <td>Fruition</td>\n",
       "      <td>Coto Brus, Terciopelo</td>\n",
       "      <td>1908</td>\n",
       "      <td>2016</td>\n",
       "      <td>0.74</td>\n",
       "      <td>U.S.A.</td>\n",
       "      <td>4.0</td>\n",
       "      <td></td>\n",
       "    </tr>\n",
       "  </tbody>\n",
       "</table>\n",
       "</div>"
      ],
      "text/plain": [
       "  Broad Bean Origin                  Company  \\\n",
       "0            Belize               Castronovo   \n",
       "1           Bolivia                    Rogue   \n",
       "2            Brazil  L.A. Burdick (Felchlin)   \n",
       "3          Colombia           Willie's Cacao   \n",
       "4        Costa Rica                 Fruition   \n",
       "\n",
       "                Specific Bean Origin or Bar Name   REF  Review Date  \\\n",
       "0                  Maya Mtn, Batch 454, Heirloom  1724         2016   \n",
       "1  Wild Beni, Lower Rio Beni, Tranquilidad, 2015  1744         2016   \n",
       "2              Monte Alegre, 3 diff. plantations  1339         2014   \n",
       "3                        Sierra Nevada, Tutu Iku  1848         2016   \n",
       "4                          Coto Brus, Terciopelo  1908         2016   \n",
       "\n",
       "   Cocoa Percent Company Location  Rating   Bean Type  \n",
       "0           0.72           U.S.A.     4.0  Trinitario  \n",
       "1           0.75           U.S.A.     4.0              \n",
       "2           0.75           U.S.A.     4.0              \n",
       "3           0.70             U.K.     4.0              \n",
       "4           0.74           U.S.A.     4.0              "
      ]
     },
     "execution_count": 33,
     "metadata": {},
     "output_type": "execute_result"
    }
   ],
   "source": [
    "df1[df1['Rating']>=4.0].groupby('Broad Bean Origin').max().reset_index().head()"
   ]
  },
  {
   "cell_type": "markdown",
   "metadata": {},
   "source": [
    "The countries are so varied that graphing wouldn't be very helpful. Most of the bars have a rating of 4.0 anyway."
   ]
  },
  {
   "cell_type": "code",
   "execution_count": 34,
   "metadata": {},
   "outputs": [
    {
     "data": {
      "text/html": [
       "<div>\n",
       "<style scoped>\n",
       "    .dataframe tbody tr th:only-of-type {\n",
       "        vertical-align: middle;\n",
       "    }\n",
       "\n",
       "    .dataframe tbody tr th {\n",
       "        vertical-align: top;\n",
       "    }\n",
       "\n",
       "    .dataframe thead th {\n",
       "        text-align: right;\n",
       "    }\n",
       "</style>\n",
       "<table border=\"1\" class=\"dataframe\">\n",
       "  <thead>\n",
       "    <tr style=\"text-align: right;\">\n",
       "      <th></th>\n",
       "      <th>Broad Bean Origin</th>\n",
       "      <th>REF</th>\n",
       "      <th>Review Date</th>\n",
       "      <th>Cocoa Percent</th>\n",
       "      <th>Rating</th>\n",
       "    </tr>\n",
       "  </thead>\n",
       "  <tbody>\n",
       "    <tr>\n",
       "      <th>0</th>\n",
       "      <td>Africa, Carribean, C. Am.</td>\n",
       "      <td>1121.000000</td>\n",
       "      <td>2013.000000</td>\n",
       "      <td>0.740000</td>\n",
       "      <td>2.750000</td>\n",
       "    </tr>\n",
       "    <tr>\n",
       "      <th>1</th>\n",
       "      <td>Australia</td>\n",
       "      <td>1434.333333</td>\n",
       "      <td>2014.000000</td>\n",
       "      <td>0.690000</td>\n",
       "      <td>3.250000</td>\n",
       "    </tr>\n",
       "    <tr>\n",
       "      <th>2</th>\n",
       "      <td>Belize</td>\n",
       "      <td>1414.897959</td>\n",
       "      <td>2014.387755</td>\n",
       "      <td>0.734490</td>\n",
       "      <td>3.234694</td>\n",
       "    </tr>\n",
       "    <tr>\n",
       "      <th>3</th>\n",
       "      <td>Bolivia</td>\n",
       "      <td>1152.719298</td>\n",
       "      <td>2013.052632</td>\n",
       "      <td>0.717018</td>\n",
       "      <td>3.197368</td>\n",
       "    </tr>\n",
       "    <tr>\n",
       "      <th>4</th>\n",
       "      <td>Brazil</td>\n",
       "      <td>1082.482759</td>\n",
       "      <td>2012.568966</td>\n",
       "      <td>0.711379</td>\n",
       "      <td>3.284483</td>\n",
       "    </tr>\n",
       "    <tr>\n",
       "      <th>5</th>\n",
       "      <td>Burma</td>\n",
       "      <td>1015.000000</td>\n",
       "      <td>2013.000000</td>\n",
       "      <td>0.700000</td>\n",
       "      <td>3.000000</td>\n",
       "    </tr>\n",
       "    <tr>\n",
       "      <th>6</th>\n",
       "      <td>Cameroon</td>\n",
       "      <td>1658.000000</td>\n",
       "      <td>2015.000000</td>\n",
       "      <td>0.700000</td>\n",
       "      <td>3.250000</td>\n",
       "    </tr>\n",
       "    <tr>\n",
       "      <th>7</th>\n",
       "      <td>Carribean</td>\n",
       "      <td>455.250000</td>\n",
       "      <td>2009.125000</td>\n",
       "      <td>0.762500</td>\n",
       "      <td>2.968750</td>\n",
       "    </tr>\n",
       "    <tr>\n",
       "      <th>8</th>\n",
       "      <td>Carribean(DR/Jam/Tri)</td>\n",
       "      <td>117.000000</td>\n",
       "      <td>2007.000000</td>\n",
       "      <td>0.720000</td>\n",
       "      <td>3.000000</td>\n",
       "    </tr>\n",
       "    <tr>\n",
       "      <th>9</th>\n",
       "      <td>Central and S. America</td>\n",
       "      <td>933.500000</td>\n",
       "      <td>2012.250000</td>\n",
       "      <td>0.780000</td>\n",
       "      <td>3.250000</td>\n",
       "    </tr>\n",
       "  </tbody>\n",
       "</table>\n",
       "</div>"
      ],
      "text/plain": [
       "           Broad Bean Origin          REF  Review Date  Cocoa Percent  \\\n",
       "0  Africa, Carribean, C. Am.  1121.000000  2013.000000       0.740000   \n",
       "1                  Australia  1434.333333  2014.000000       0.690000   \n",
       "2                     Belize  1414.897959  2014.387755       0.734490   \n",
       "3                    Bolivia  1152.719298  2013.052632       0.717018   \n",
       "4                     Brazil  1082.482759  2012.568966       0.711379   \n",
       "5                      Burma  1015.000000  2013.000000       0.700000   \n",
       "6                   Cameroon  1658.000000  2015.000000       0.700000   \n",
       "7                  Carribean   455.250000  2009.125000       0.762500   \n",
       "8      Carribean(DR/Jam/Tri)   117.000000  2007.000000       0.720000   \n",
       "9     Central and S. America   933.500000  2012.250000       0.780000   \n",
       "\n",
       "     Rating  \n",
       "0  2.750000  \n",
       "1  3.250000  \n",
       "2  3.234694  \n",
       "3  3.197368  \n",
       "4  3.284483  \n",
       "5  3.000000  \n",
       "6  3.250000  \n",
       "7  2.968750  \n",
       "8  3.000000  \n",
       "9  3.250000  "
      ]
     },
     "execution_count": 34,
     "metadata": {},
     "output_type": "execute_result"
    }
   ],
   "source": [
    "q1 = df1.groupby('Broad Bean Origin').mean().reset_index()\n",
    "q1.head(10)"
   ]
  },
  {
   "cell_type": "code",
   "execution_count": 35,
   "metadata": {},
   "outputs": [
    {
     "data": {
      "text/html": [
       "<div>\n",
       "<style scoped>\n",
       "    .dataframe tbody tr th:only-of-type {\n",
       "        vertical-align: middle;\n",
       "    }\n",
       "\n",
       "    .dataframe tbody tr th {\n",
       "        vertical-align: top;\n",
       "    }\n",
       "\n",
       "    .dataframe thead th {\n",
       "        text-align: right;\n",
       "    }\n",
       "</style>\n",
       "<table border=\"1\" class=\"dataframe\">\n",
       "  <thead>\n",
       "    <tr style=\"text-align: right;\">\n",
       "      <th></th>\n",
       "      <th>Broad Bean Origin</th>\n",
       "      <th>REF</th>\n",
       "      <th>Review Date</th>\n",
       "      <th>Cocoa Percent</th>\n",
       "      <th>Rating</th>\n",
       "    </tr>\n",
       "  </thead>\n",
       "  <tbody>\n",
       "    <tr>\n",
       "      <th>17</th>\n",
       "      <td>Dom. Rep., Madagascar</td>\n",
       "      <td>867.0</td>\n",
       "      <td>2012.0</td>\n",
       "      <td>0.70</td>\n",
       "      <td>4.0</td>\n",
       "    </tr>\n",
       "    <tr>\n",
       "      <th>31</th>\n",
       "      <td>Gre., PNG, Haw., Haiti, Mad</td>\n",
       "      <td>867.0</td>\n",
       "      <td>2012.0</td>\n",
       "      <td>0.70</td>\n",
       "      <td>4.0</td>\n",
       "    </tr>\n",
       "    <tr>\n",
       "      <th>33</th>\n",
       "      <td>Guat., D.R., Peru, Mad., PNG</td>\n",
       "      <td>1077.0</td>\n",
       "      <td>2013.0</td>\n",
       "      <td>0.88</td>\n",
       "      <td>4.0</td>\n",
       "    </tr>\n",
       "    <tr>\n",
       "      <th>58</th>\n",
       "      <td>Peru, Dom. Rep</td>\n",
       "      <td>1081.0</td>\n",
       "      <td>2013.0</td>\n",
       "      <td>0.67</td>\n",
       "      <td>4.0</td>\n",
       "    </tr>\n",
       "    <tr>\n",
       "      <th>84</th>\n",
       "      <td>Ven, Bolivia, D.R.</td>\n",
       "      <td>676.0</td>\n",
       "      <td>2011.0</td>\n",
       "      <td>0.70</td>\n",
       "      <td>4.0</td>\n",
       "    </tr>\n",
       "    <tr>\n",
       "      <th>94</th>\n",
       "      <td>Venezuela, Java</td>\n",
       "      <td>111.0</td>\n",
       "      <td>2007.0</td>\n",
       "      <td>0.70</td>\n",
       "      <td>4.0</td>\n",
       "    </tr>\n",
       "  </tbody>\n",
       "</table>\n",
       "</div>"
      ],
      "text/plain": [
       "               Broad Bean Origin     REF  Review Date  Cocoa Percent  Rating\n",
       "17         Dom. Rep., Madagascar   867.0       2012.0           0.70     4.0\n",
       "31   Gre., PNG, Haw., Haiti, Mad   867.0       2012.0           0.70     4.0\n",
       "33  Guat., D.R., Peru, Mad., PNG  1077.0       2013.0           0.88     4.0\n",
       "58                Peru, Dom. Rep  1081.0       2013.0           0.67     4.0\n",
       "84            Ven, Bolivia, D.R.   676.0       2011.0           0.70     4.0\n",
       "94               Venezuela, Java   111.0       2007.0           0.70     4.0"
      ]
     },
     "execution_count": 35,
     "metadata": {},
     "output_type": "execute_result"
    }
   ],
   "source": [
    "q1[q1['Rating'] >= 4.0]"
   ]
  },
  {
   "cell_type": "markdown",
   "metadata": {},
   "source": [
    "It seems like the best cocoa beans are blends grown from a combination of Dominican Republic, Madagascar, Grenada, Papua New Guinea, Hawaii, Haiti, Guatemala, Peru, Venezuela, Bolivia, and Java.\n",
    "\n",
    "What companies produce the highest rated bars?\n",
    "\n",
    "Let's look at Company Location along with the Rating of the bars."
   ]
  },
  {
   "cell_type": "code",
   "execution_count": 36,
   "metadata": {},
   "outputs": [
    {
     "data": {
      "text/html": [
       "<div>\n",
       "<style scoped>\n",
       "    .dataframe tbody tr th:only-of-type {\n",
       "        vertical-align: middle;\n",
       "    }\n",
       "\n",
       "    .dataframe tbody tr th {\n",
       "        vertical-align: top;\n",
       "    }\n",
       "\n",
       "    .dataframe thead th {\n",
       "        text-align: right;\n",
       "    }\n",
       "</style>\n",
       "<table border=\"1\" class=\"dataframe\">\n",
       "  <thead>\n",
       "    <tr style=\"text-align: right;\">\n",
       "      <th></th>\n",
       "      <th>Company</th>\n",
       "      <th>Company Location</th>\n",
       "      <th>Rating</th>\n",
       "      <th>Review Date</th>\n",
       "    </tr>\n",
       "  </thead>\n",
       "  <tbody>\n",
       "    <tr>\n",
       "      <th>0</th>\n",
       "      <td>A. Morin</td>\n",
       "      <td>France</td>\n",
       "      <td>3.75</td>\n",
       "      <td>2016</td>\n",
       "    </tr>\n",
       "    <tr>\n",
       "      <th>1</th>\n",
       "      <td>A. Morin</td>\n",
       "      <td>France</td>\n",
       "      <td>2.75</td>\n",
       "      <td>2015</td>\n",
       "    </tr>\n",
       "    <tr>\n",
       "      <th>2</th>\n",
       "      <td>A. Morin</td>\n",
       "      <td>France</td>\n",
       "      <td>3.00</td>\n",
       "      <td>2015</td>\n",
       "    </tr>\n",
       "    <tr>\n",
       "      <th>3</th>\n",
       "      <td>A. Morin</td>\n",
       "      <td>France</td>\n",
       "      <td>3.50</td>\n",
       "      <td>2015</td>\n",
       "    </tr>\n",
       "    <tr>\n",
       "      <th>4</th>\n",
       "      <td>A. Morin</td>\n",
       "      <td>France</td>\n",
       "      <td>3.50</td>\n",
       "      <td>2015</td>\n",
       "    </tr>\n",
       "  </tbody>\n",
       "</table>\n",
       "</div>"
      ],
      "text/plain": [
       "    Company Company Location  Rating  Review Date\n",
       "0  A. Morin           France    3.75         2016\n",
       "1  A. Morin           France    2.75         2015\n",
       "2  A. Morin           France    3.00         2015\n",
       "3  A. Morin           France    3.50         2015\n",
       "4  A. Morin           France    3.50         2015"
      ]
     },
     "execution_count": 36,
     "metadata": {},
     "output_type": "execute_result"
    }
   ],
   "source": [
    "q2 = df1[['Company', 'Company Location', 'Rating', 'Review Date']]\n",
    "q2.head()"
   ]
  },
  {
   "cell_type": "code",
   "execution_count": 37,
   "metadata": {},
   "outputs": [
    {
     "data": {
      "text/html": [
       "<div>\n",
       "<style scoped>\n",
       "    .dataframe tbody tr th:only-of-type {\n",
       "        vertical-align: middle;\n",
       "    }\n",
       "\n",
       "    .dataframe tbody tr th {\n",
       "        vertical-align: top;\n",
       "    }\n",
       "\n",
       "    .dataframe thead th {\n",
       "        text-align: right;\n",
       "    }\n",
       "</style>\n",
       "<table border=\"1\" class=\"dataframe\">\n",
       "  <thead>\n",
       "    <tr style=\"text-align: right;\">\n",
       "      <th></th>\n",
       "      <th>Rating</th>\n",
       "      <th>Company</th>\n",
       "      <th>Company Location</th>\n",
       "      <th>Review Date</th>\n",
       "    </tr>\n",
       "  </thead>\n",
       "  <tbody>\n",
       "    <tr>\n",
       "      <th>0</th>\n",
       "      <td>1.00</td>\n",
       "      <td>Neuhaus (Callebaut)</td>\n",
       "      <td>Sao Tome</td>\n",
       "      <td>2008</td>\n",
       "    </tr>\n",
       "    <tr>\n",
       "      <th>1</th>\n",
       "      <td>1.50</td>\n",
       "      <td>Valrhona</td>\n",
       "      <td>U.S.A.</td>\n",
       "      <td>2012</td>\n",
       "    </tr>\n",
       "    <tr>\n",
       "      <th>2</th>\n",
       "      <td>1.75</td>\n",
       "      <td>Hotel Chocolat</td>\n",
       "      <td>U.K.</td>\n",
       "      <td>2013</td>\n",
       "    </tr>\n",
       "    <tr>\n",
       "      <th>3</th>\n",
       "      <td>2.00</td>\n",
       "      <td>Vintage Plantations (Tulicorp)</td>\n",
       "      <td>U.S.A.</td>\n",
       "      <td>2016</td>\n",
       "    </tr>\n",
       "    <tr>\n",
       "      <th>4</th>\n",
       "      <td>2.25</td>\n",
       "      <td>Willie's Cacao</td>\n",
       "      <td>U.S.A.</td>\n",
       "      <td>2016</td>\n",
       "    </tr>\n",
       "    <tr>\n",
       "      <th>5</th>\n",
       "      <td>2.50</td>\n",
       "      <td>twenty-four blackbirds</td>\n",
       "      <td>Venezuela</td>\n",
       "      <td>2017</td>\n",
       "    </tr>\n",
       "    <tr>\n",
       "      <th>6</th>\n",
       "      <td>2.75</td>\n",
       "      <td>twenty-four blackbirds</td>\n",
       "      <td>Wales</td>\n",
       "      <td>2017</td>\n",
       "    </tr>\n",
       "    <tr>\n",
       "      <th>7</th>\n",
       "      <td>3.00</td>\n",
       "      <td>organicfair</td>\n",
       "      <td>Vietnam</td>\n",
       "      <td>2017</td>\n",
       "    </tr>\n",
       "    <tr>\n",
       "      <th>8</th>\n",
       "      <td>3.25</td>\n",
       "      <td>twenty-four blackbirds</td>\n",
       "      <td>Vietnam</td>\n",
       "      <td>2017</td>\n",
       "    </tr>\n",
       "    <tr>\n",
       "      <th>9</th>\n",
       "      <td>3.50</td>\n",
       "      <td>twenty-four blackbirds</td>\n",
       "      <td>Vietnam</td>\n",
       "      <td>2017</td>\n",
       "    </tr>\n",
       "    <tr>\n",
       "      <th>10</th>\n",
       "      <td>3.75</td>\n",
       "      <td>Zotter</td>\n",
       "      <td>Vietnam</td>\n",
       "      <td>2017</td>\n",
       "    </tr>\n",
       "    <tr>\n",
       "      <th>11</th>\n",
       "      <td>4.00</td>\n",
       "      <td>Woodblock</td>\n",
       "      <td>U.S.A.</td>\n",
       "      <td>2016</td>\n",
       "    </tr>\n",
       "    <tr>\n",
       "      <th>12</th>\n",
       "      <td>5.00</td>\n",
       "      <td>Amedei</td>\n",
       "      <td>Italy</td>\n",
       "      <td>2007</td>\n",
       "    </tr>\n",
       "  </tbody>\n",
       "</table>\n",
       "</div>"
      ],
      "text/plain": [
       "    Rating                         Company Company Location  Review Date\n",
       "0     1.00             Neuhaus (Callebaut)         Sao Tome         2008\n",
       "1     1.50                        Valrhona           U.S.A.         2012\n",
       "2     1.75                  Hotel Chocolat             U.K.         2013\n",
       "3     2.00  Vintage Plantations (Tulicorp)           U.S.A.         2016\n",
       "4     2.25                  Willie's Cacao           U.S.A.         2016\n",
       "5     2.50          twenty-four blackbirds        Venezuela         2017\n",
       "6     2.75          twenty-four blackbirds            Wales         2017\n",
       "7     3.00                     organicfair          Vietnam         2017\n",
       "8     3.25          twenty-four blackbirds          Vietnam         2017\n",
       "9     3.50          twenty-four blackbirds          Vietnam         2017\n",
       "10    3.75                          Zotter          Vietnam         2017\n",
       "11    4.00                       Woodblock           U.S.A.         2016\n",
       "12    5.00                          Amedei            Italy         2007"
      ]
     },
     "execution_count": 37,
     "metadata": {},
     "output_type": "execute_result"
    }
   ],
   "source": [
    "q2.groupby('Rating').max().reset_index()"
   ]
  },
  {
   "cell_type": "markdown",
   "metadata": {},
   "source": [
    "Amedei. Nothing comes close. There is no 4.50 rating. However, since the Amedei rating is more than a decade old, it makes more sense to say the the higher ranking bars are made by Woodblock in the U.S.A. more recently.\n",
    "\n",
    "What's the relation between the cocoa solids percentage and rating?"
   ]
  },
  {
   "cell_type": "code",
   "execution_count": 42,
   "metadata": {},
   "outputs": [
    {
     "data": {
      "text/html": [
       "<div>\n",
       "<style scoped>\n",
       "    .dataframe tbody tr th:only-of-type {\n",
       "        vertical-align: middle;\n",
       "    }\n",
       "\n",
       "    .dataframe tbody tr th {\n",
       "        vertical-align: top;\n",
       "    }\n",
       "\n",
       "    .dataframe thead th {\n",
       "        text-align: right;\n",
       "    }\n",
       "</style>\n",
       "<table border=\"1\" class=\"dataframe\">\n",
       "  <thead>\n",
       "    <tr style=\"text-align: right;\">\n",
       "      <th></th>\n",
       "      <th>Rating</th>\n",
       "      <th>Broad Bean Origin</th>\n",
       "    </tr>\n",
       "  </thead>\n",
       "  <tbody>\n",
       "    <tr>\n",
       "      <th>0</th>\n",
       "      <td>3.75</td>\n",
       "      <td>Sao Tome</td>\n",
       "    </tr>\n",
       "    <tr>\n",
       "      <th>1</th>\n",
       "      <td>2.75</td>\n",
       "      <td>Togo</td>\n",
       "    </tr>\n",
       "    <tr>\n",
       "      <th>2</th>\n",
       "      <td>3.00</td>\n",
       "      <td>Togo</td>\n",
       "    </tr>\n",
       "    <tr>\n",
       "      <th>3</th>\n",
       "      <td>3.50</td>\n",
       "      <td>Togo</td>\n",
       "    </tr>\n",
       "    <tr>\n",
       "      <th>4</th>\n",
       "      <td>3.50</td>\n",
       "      <td>Peru</td>\n",
       "    </tr>\n",
       "  </tbody>\n",
       "</table>\n",
       "</div>"
      ],
      "text/plain": [
       "   Rating Broad Bean Origin\n",
       "0    3.75          Sao Tome\n",
       "1    2.75              Togo\n",
       "2    3.00              Togo\n",
       "3    3.50              Togo\n",
       "4    3.50              Peru"
      ]
     },
     "execution_count": 42,
     "metadata": {},
     "output_type": "execute_result"
    }
   ],
   "source": [
    "if ',' not in df1['Broad Bean Origin']:\n",
    "    q3 = df1[['Rating', 'Broad Bean Origin']]\n",
    "    \n",
    "q3.head()"
   ]
  },
  {
   "cell_type": "code",
   "execution_count": 43,
   "metadata": {},
   "outputs": [
    {
     "data": {
      "text/plain": [
       "Text(0.5,1,'Boxplot, Rating for countries')"
      ]
     },
     "execution_count": 43,
     "metadata": {},
     "output_type": "execute_result"
    },
    {
     "data": {
      "image/png": "[encoded data removed]",
      "text/plain": [
       "<matplotlib.figure.Figure at 0x16b834f2208>"
      ]
     },
     "metadata": {},
     "output_type": "display_data"
    }
   ],
   "source": [
    "fig, ax = plt.subplots(figsize=[6, 16])\n",
    "sns.boxplot(\n",
    "    data=q3,\n",
    "    y='Broad Bean Origin',\n",
    "    x='Rating'\n",
    ")\n",
    "ax.set_title('Boxplot, Rating for countries')"
   ]
  },
  {
   "cell_type": "code",
   "execution_count": null,
   "metadata": {},
   "outputs": [],
   "source": []
  }
 ],
 "metadata": {
  "kernelspec": {
   "display_name": "Python 3",
   "language": "python",
   "name": "python3"
  },
  "language_info": {
   "codemirror_mode": {
    "name": "ipython",
    "version": 3
   },
   "file_extension": ".py",
   "mimetype": "text/x-python",
   "name": "python",
   "nbconvert_exporter": "python",
   "pygments_lexer": "ipython3",
   "version": "3.6.4"
  }
 },
 "nbformat": 4,
 "nbformat_minor": 2
}
